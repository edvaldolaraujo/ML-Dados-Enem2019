{
 "cells": [
  {
   "cell_type": "markdown",
   "metadata": {},
   "source": [
    "# ENEM 2019 - Experimento Machine Learning - Análise Exploratória de Dados"
   ]
  },
  {
   "cell_type": "markdown",
   "metadata": {},
   "source": [
    "## Análise Exploratória de Dados\n",
    "Esta é uma técnica inicial muito comum e, ao mesmo tempo, essencial para qualquer trabalho de machine learning.\n",
    "\n",
    "O objetivo é entender como os dados estão organizados, conhecer cada **feature** em termos de distribuição, presença de dados **missing**, **outliers** e medidas estatisticas que detalhem melhor os dados."
   ]
  },
  {
   "cell_type": "markdown",
   "metadata": {},
   "source": [
    "### Carregando o conjunto de dados e avaliando a estrutura"
   ]
  },
  {
   "cell_type": "code",
   "execution_count": null,
   "metadata": {
    "ExecuteTime": {
     "end_time": "2021-01-25T21:55:46.753407Z",
     "start_time": "2021-01-25T21:55:33.013474Z"
    }
   },
   "outputs": [],
   "source": [
    "import pandas as pd"
   ]
  },
  {
   "cell_type": "markdown",
   "metadata": {},
   "source": [
    "### Explorando os dados\n",
    "Após o pré-processamento temos agora uma base com 53 colunas (uma redução de 61% no número) e cerca de 3,7M de casos (aproximadamente 73% do conjunto original).\n",
    "\n",
    "Agora o passo seguinte é explorar as variáveis do conjunto de dados.\n",
    "\n",
    "Para este conjunto ajustado consideraremos a coluna `NU_NOTA_REDACAO` como variável **dependente**. Esta definição é importante, pois os algorítmos de classificação e regressão necessitam desta variável.\n",
    "\n"
   ]
  },
  {
   "cell_type": "code",
   "execution_count": null,
   "metadata": {
    "ExecuteTime": {
     "end_time": "2021-01-25T21:56:37.519460Z",
     "start_time": "2021-01-25T21:56:05.478944Z"
    }
   },
   "outputs": [],
   "source": [
    "enem2019_dados = pd.read_csv(\"C:/Sandbox/MICRODADOS_ENEM_2019_final.csv\",  encoding = \"ISO-8859-1\", sep=',')"
   ]
  },
  {
   "cell_type": "markdown",
   "metadata": {},
   "source": [
    "Transformando dados string em categorias"
   ]
  },
  {
   "cell_type": "code",
   "execution_count": null,
   "metadata": {
    "ExecuteTime": {
     "end_time": "2021-01-25T21:57:05.869145Z",
     "start_time": "2021-01-25T21:56:40.283003Z"
    }
   },
   "outputs": [],
   "source": [
    "categoricos = ['SG_UF_RESIDENCIA', 'TP_SEXO', 'TP_ESTADO_CIVIL', 'TP_COR_RACA', 'TP_NACIONALIDADE', 'TP_ST_CONCLUSAO', \n",
    "               'TP_ANO_CONCLUIU', 'TP_ESCOLA', 'TP_ENSINO', 'IN_TREINEIRO', 'TP_DEPENDENCIA_ADM_ESC', 'TP_LOCALIZACAO_ESC',\n",
    "               'TP_SIT_FUNC_ESC', 'TP_LINGUA', 'TP_STATUS_REDACAO', \n",
    "               'Q001', 'Q002', 'Q003', 'Q004', 'Q006', 'Q007', 'Q008', 'Q009', 'Q010', 'Q011', 'Q012', 'Q013', 'Q014', 'Q015',\n",
    "               'Q016', 'Q017', 'Q018', 'Q019', 'Q020', 'Q021', 'Q022', 'Q023', 'Q024', 'Q025'\n",
    "              ]\n",
    "\n",
    "for campos in categoricos:\n",
    "    enem2019_dados[campos] = enem2019_dados[campos].astype(\"category\")"
   ]
  },
  {
   "cell_type": "markdown",
   "metadata": {},
   "source": [
    "Sumário estatístico para entender os grandes números relacionados a `NU_NOTA_REDACAO`"
   ]
  },
  {
   "cell_type": "code",
   "execution_count": null,
   "metadata": {
    "ExecuteTime": {
     "end_time": "2021-01-25T22:03:13.728841Z",
     "start_time": "2021-01-25T22:03:13.533295Z"
    }
   },
   "outputs": [],
   "source": [
    "(enem2019_dados['NU_NOTA_REDACAO'].describe())"
   ]
  },
  {
   "cell_type": "markdown",
   "metadata": {},
   "source": [
    "No ENEM 2019 a média das notas ficou em torno de **580 pontos** com um desvio padrão de **183 pontos**. \n",
    "O desvio padrão é um indicativo de que os dados estão muito espalhados em torno da média."
   ]
  },
  {
   "cell_type": "markdown",
   "metadata": {},
   "source": [
    "Uma Análise de distribuição permitirá entender como as notas estão distribuídas dentro do intervalo [0,1000]. Também será possivel avaliar se há assimetria e entender como as notas se comportam nos estremos deste intervalor."
   ]
  },
  {
   "cell_type": "code",
   "execution_count": null,
   "metadata": {
    "ExecuteTime": {
     "end_time": "2021-01-25T22:04:36.663614Z",
     "start_time": "2021-01-25T22:04:25.793696Z"
    }
   },
   "outputs": [],
   "source": [
    "import matplotlib.pyplot as plt"
   ]
  },
  {
   "cell_type": "code",
   "execution_count": null,
   "metadata": {
    "ExecuteTime": {
     "end_time": "2021-01-25T22:06:08.453511Z",
     "start_time": "2021-01-25T22:06:06.755342Z"
    }
   },
   "outputs": [],
   "source": [
    "fig, axs = plt.subplots(1, 2, figsize=(15,5))\n",
    "\n",
    "fig.suptitle('Análise de distribuição: NU_NOTA_REDACAO')\n",
    "\n",
    "axs[0].set_title('Distribuição de Frequência')\n",
    "axs[0].hist(enem2019_dados['NU_NOTA_REDACAO'],  bins=10, density=True)\n",
    "axs[1].set_title('Distribuição Empírica')\n",
    "axs[1].boxplot(enem2019_dados['NU_NOTA_REDACAO'])\n",
    "\n",
    "plt.show()"
   ]
  },
  {
   "cell_type": "markdown",
   "metadata": {},
   "source": [
    "E um descritivo estatístico da variável"
   ]
  },
  {
   "cell_type": "code",
   "execution_count": null,
   "metadata": {
    "ExecuteTime": {
     "end_time": "2021-01-24T02:42:55.715224Z",
     "start_time": "2021-01-24T02:42:26.120729Z"
    }
   },
   "outputs": [],
   "source": [
    "import statsmodels.api as sm\n",
    "import statsmodels.stats.descriptivestats as smdesc\n",
    "smdesc.describe(enem2019_dados['NU_NOTA_REDACAO'])"
   ]
  },
  {
   "cell_type": "code",
   "execution_count": null,
   "metadata": {
    "ExecuteTime": {
     "end_time": "2021-01-24T02:50:19.186528Z",
     "start_time": "2021-01-24T02:50:05.241200Z"
    }
   },
   "outputs": [],
   "source": [
    "from scipy import stats\n",
    "stats.probplot(enem2019_dados['NU_NOTA_REDACAO'], plot=plt)\n",
    "plt.show()"
   ]
  },
  {
   "cell_type": "code",
   "execution_count": null,
   "metadata": {},
   "outputs": [],
   "source": []
  }
 ],
 "metadata": {
  "kernelspec": {
   "display_name": "Python 3",
   "language": "python",
   "name": "python3"
  },
  "language_info": {
   "codemirror_mode": {
    "name": "ipython",
    "version": 3
   },
   "file_extension": ".py",
   "mimetype": "text/x-python",
   "name": "python",
   "nbconvert_exporter": "python",
   "pygments_lexer": "ipython3",
   "version": "3.8.5"
  },
  "varInspector": {
   "cols": {
    "lenName": 16,
    "lenType": 16,
    "lenVar": 40
   },
   "kernels_config": {
    "python": {
     "delete_cmd_postfix": "",
     "delete_cmd_prefix": "del ",
     "library": "var_list.py",
     "varRefreshCmd": "print(var_dic_list())"
    },
    "r": {
     "delete_cmd_postfix": ") ",
     "delete_cmd_prefix": "rm(",
     "library": "var_list.r",
     "varRefreshCmd": "cat(var_dic_list()) "
    }
   },
   "position": {
    "height": "350.4px",
    "left": "1168px",
    "right": "20px",
    "top": "121px",
    "width": "350px"
   },
   "types_to_exclude": [
    "module",
    "function",
    "builtin_function_or_method",
    "instance",
    "_Feature"
   ],
   "window_display": false
  }
 },
 "nbformat": 4,
 "nbformat_minor": 4
}
