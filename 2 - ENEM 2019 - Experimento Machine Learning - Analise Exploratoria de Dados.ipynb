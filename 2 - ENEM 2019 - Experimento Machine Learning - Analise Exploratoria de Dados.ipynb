{
 "cells": [
  {
   "cell_type": "markdown",
   "metadata": {},
   "source": [
    "# ENEM 2019 - Experimento Machine Learning - Análise Exploratória de Dados"
   ]
  },
  {
   "cell_type": "markdown",
   "metadata": {},
   "source": [
    "## Análise Exploratória de Dados\n",
    "Esta é uma técnica inicial muito comum e, ao mesmo tempo, essencial para qualquer trabalho de machine learning.\n",
    "\n",
    "O objetivo é entender como os dados estão organizados, conhecer cada **feature** em termos de distribuição, presença de dados **missing**, **outliers** e medidas estatisticas que detalhem melhor os dados."
   ]
  },
  {
   "cell_type": "markdown",
   "metadata": {},
   "source": [
    "### Carregando o conjunto de dados e avaliando a estrutura"
   ]
  },
  {
   "cell_type": "code",
   "execution_count": 1,
   "metadata": {
    "ExecuteTime": {
     "end_time": "2021-01-24T00:17:19.102796Z",
     "start_time": "2021-01-24T00:17:14.597781Z"
    }
   },
   "outputs": [],
   "source": [
    "import pandas as pd"
   ]
  },
  {
   "cell_type": "markdown",
   "metadata": {},
   "source": [
    "### Explorando os dados\n",
    "Após o pré-processamento temos agora uma base com 53 colunas (uma redução de 61% no número) e cerca de 3,7M de casos (aproximadamente 73% do conjunto original).\n",
    "\n",
    "Agora o passo seguinte é explorar as variáveis do conjunto de dados.\n",
    "\n",
    "Para este conjunto ajustado consideraremos a coluna `NU_NOTA_REDACAO` como variável **dependente**. Esta definição é importante, pois os algorítmos de classificação e regressão necessitam desta variável.\n",
    "\n"
   ]
  },
  {
   "cell_type": "code",
   "execution_count": 17,
   "metadata": {
    "ExecuteTime": {
     "end_time": "2021-01-24T01:19:12.890534Z",
     "start_time": "2021-01-24T01:19:01.120440Z"
    }
   },
   "outputs": [],
   "source": [
    "enem2019_dados = pd.read_csv(\"C:/Sandbox/MICRODADOS_ENEM_2019_final.csv\",  encoding = \"ISO-8859-1\", sep=',')"
   ]
  },
  {
   "cell_type": "markdown",
   "metadata": {},
   "source": [
    "Transformando dados string em categorias"
   ]
  },
  {
   "cell_type": "code",
   "execution_count": 18,
   "metadata": {
    "ExecuteTime": {
     "end_time": "2021-01-24T01:19:42.637788Z",
     "start_time": "2021-01-24T01:19:31.571523Z"
    }
   },
   "outputs": [],
   "source": [
    "categoricos = ['SG_UF_RESIDENCIA', 'TP_SEXO', 'TP_ESTADO_CIVIL', 'TP_COR_RACA', 'TP_NACIONALIDADE', 'TP_ST_CONCLUSAO', \n",
    "               'TP_ANO_CONCLUIU', 'TP_ESCOLA', 'TP_ENSINO', 'IN_TREINEIRO', 'TP_DEPENDENCIA_ADM_ESC', 'TP_LOCALIZACAO_ESC',\n",
    "               'TP_SIT_FUNC_ESC', 'TP_LINGUA', 'TP_STATUS_REDACAO', \n",
    "               'Q001', 'Q002', 'Q003', 'Q004', 'Q006', 'Q007', 'Q008', 'Q009', 'Q010', 'Q011', 'Q012', 'Q013', 'Q014', 'Q015',\n",
    "               'Q016', 'Q017', 'Q018', 'Q019', 'Q020', 'Q021', 'Q022', 'Q023', 'Q024', 'Q025'\n",
    "              ]\n",
    "\n",
    "for campos in categoricos:\n",
    "    enem2019_dados[campos] = enem2019_dados[campos].astype(\"category\")"
   ]
  },
  {
   "cell_type": "markdown",
   "metadata": {},
   "source": [
    "Sumário estatístico para entender os grandes números"
   ]
  },
  {
   "cell_type": "code",
   "execution_count": 24,
   "metadata": {
    "ExecuteTime": {
     "end_time": "2021-01-24T01:45:38.039258Z",
     "start_time": "2021-01-24T01:45:37.772290Z"
    }
   },
   "outputs": [
    {
     "data": {
      "text/plain": [
       "count    3.702007e+06\n",
       "mean     5.797694e+02\n",
       "std      1.825116e+02\n",
       "min      0.000000e+00\n",
       "25%      5.000000e+02\n",
       "50%      5.800000e+02\n",
       "75%      6.800000e+02\n",
       "max      1.000000e+03\n",
       "Name: NU_NOTA_REDACAO, dtype: float64"
      ]
     },
     "execution_count": 24,
     "metadata": {},
     "output_type": "execute_result"
    }
   ],
   "source": [
    "enem2019_dados['NU_NOTA_REDACAO'].describe()"
   ]
  },
  {
   "cell_type": "markdown",
   "metadata": {},
   "source": [
    "Seguido por uma Análise de distribuição"
   ]
  },
  {
   "cell_type": "code",
   "execution_count": 48,
   "metadata": {
    "ExecuteTime": {
     "end_time": "2021-01-24T02:45:06.843703Z",
     "start_time": "2021-01-24T02:45:06.839981Z"
    }
   },
   "outputs": [],
   "source": [
    "import matplotlib.pyplot as plt"
   ]
  },
  {
   "cell_type": "code",
   "execution_count": 49,
   "metadata": {
    "ExecuteTime": {
     "end_time": "2021-01-24T02:45:36.557432Z",
     "start_time": "2021-01-24T02:45:35.369029Z"
    }
   },
   "outputs": [
    {
     "data": {
      "image/png": "[encoded data removed]",
      "text/plain": [
       "<Figure size 1080x360 with 2 Axes>"
      ]
     },
     "metadata": {
      "needs_background": "light"
     },
     "output_type": "display_data"
    }
   ],
   "source": [
    "fig, axs = plt.subplots(1, 2, figsize=(15,5))\n",
    "\n",
    "fig.suptitle('Análise de distribuição: NU_NOTA_REDACAO')\n",
    "\n",
    "axs[0].set_title('Distribuição de Frequência')\n",
    "axs[0].hist(enem2019_dados['NU_NOTA_REDACAO'],  bins=20, density=True)\n",
    "axs[1].set_title('Distribuição Empírica')\n",
    "axs[1].boxplot(enem2019_dados['NU_NOTA_REDACAO'])\n",
    "\n",
    "plt.show()"
   ]
  },
  {
   "cell_type": "markdown",
   "metadata": {},
   "source": [
    "E um descritivo estatístico da variável"
   ]
  },
  {
   "cell_type": "code",
   "execution_count": 46,
   "metadata": {
    "ExecuteTime": {
     "end_time": "2021-01-24T02:42:55.715224Z",
     "start_time": "2021-01-24T02:42:26.120729Z"
    }
   },
   "outputs": [
    {
     "data": {
      "text/html": [
       "<div>\n",
       "<style scoped>\n",
       "    .dataframe tbody tr th:only-of-type {\n",
       "        vertical-align: middle;\n",
       "    }\n",
       "\n",
       "    .dataframe tbody tr th {\n",
       "        vertical-align: top;\n",
       "    }\n",
       "\n",
       "    .dataframe thead th {\n",
       "        text-align: right;\n",
       "    }\n",
       "</style>\n",
       "<table border=\"1\" class=\"dataframe\">\n",
       "  <thead>\n",
       "    <tr style=\"text-align: right;\">\n",
       "      <th></th>\n",
       "      <th>NU_NOTA_REDACAO</th>\n",
       "    </tr>\n",
       "  </thead>\n",
       "  <tbody>\n",
       "    <tr>\n",
       "      <th>nobs</th>\n",
       "      <td>3.702007e+06</td>\n",
       "    </tr>\n",
       "    <tr>\n",
       "      <th>missing</th>\n",
       "      <td>0.000000e+00</td>\n",
       "    </tr>\n",
       "    <tr>\n",
       "      <th>mean</th>\n",
       "      <td>5.797694e+02</td>\n",
       "    </tr>\n",
       "    <tr>\n",
       "      <th>std_err</th>\n",
       "      <td>4.930073e-05</td>\n",
       "    </tr>\n",
       "    <tr>\n",
       "      <th>upper_ci</th>\n",
       "      <td>5.797695e+02</td>\n",
       "    </tr>\n",
       "    <tr>\n",
       "      <th>lower_ci</th>\n",
       "      <td>5.797693e+02</td>\n",
       "    </tr>\n",
       "    <tr>\n",
       "      <th>std</th>\n",
       "      <td>1.825116e+02</td>\n",
       "    </tr>\n",
       "    <tr>\n",
       "      <th>iqr</th>\n",
       "      <td>1.800000e+02</td>\n",
       "    </tr>\n",
       "    <tr>\n",
       "      <th>iqr_normal</th>\n",
       "      <td>1.334342e+02</td>\n",
       "    </tr>\n",
       "    <tr>\n",
       "      <th>mad</th>\n",
       "      <td>1.326036e+02</td>\n",
       "    </tr>\n",
       "    <tr>\n",
       "      <th>mad_normal</th>\n",
       "      <td>1.661940e+02</td>\n",
       "    </tr>\n",
       "    <tr>\n",
       "      <th>coef_var</th>\n",
       "      <td>3.148004e-01</td>\n",
       "    </tr>\n",
       "    <tr>\n",
       "      <th>range</th>\n",
       "      <td>1.000000e+03</td>\n",
       "    </tr>\n",
       "    <tr>\n",
       "      <th>max</th>\n",
       "      <td>1.000000e+03</td>\n",
       "    </tr>\n",
       "    <tr>\n",
       "      <th>min</th>\n",
       "      <td>0.000000e+00</td>\n",
       "    </tr>\n",
       "    <tr>\n",
       "      <th>skew</th>\n",
       "      <td>-6.327232e-01</td>\n",
       "    </tr>\n",
       "    <tr>\n",
       "      <th>kurtosis</th>\n",
       "      <td>4.464667e+00</td>\n",
       "    </tr>\n",
       "    <tr>\n",
       "      <th>jarque_bera</th>\n",
       "      <td>5.779147e+05</td>\n",
       "    </tr>\n",
       "    <tr>\n",
       "      <th>jarque_bera_pval</th>\n",
       "      <td>0.000000e+00</td>\n",
       "    </tr>\n",
       "    <tr>\n",
       "      <th>mode</th>\n",
       "      <td>6.000000e+02</td>\n",
       "    </tr>\n",
       "    <tr>\n",
       "      <th>mode_freq</th>\n",
       "      <td>7.168733e-02</td>\n",
       "    </tr>\n",
       "    <tr>\n",
       "      <th>median</th>\n",
       "      <td>5.800000e+02</td>\n",
       "    </tr>\n",
       "  </tbody>\n",
       "</table>\n",
       "</div>"
      ],
      "text/plain": [
       "                  NU_NOTA_REDACAO\n",
       "nobs                 3.702007e+06\n",
       "missing              0.000000e+00\n",
       "mean                 5.797694e+02\n",
       "std_err              4.930073e-05\n",
       "upper_ci             5.797695e+02\n",
       "lower_ci             5.797693e+02\n",
       "std                  1.825116e+02\n",
       "iqr                  1.800000e+02\n",
       "iqr_normal           1.334342e+02\n",
       "mad                  1.326036e+02\n",
       "mad_normal           1.661940e+02\n",
       "coef_var             3.148004e-01\n",
       "range                1.000000e+03\n",
       "max                  1.000000e+03\n",
       "min                  0.000000e+00\n",
       "skew                -6.327232e-01\n",
       "kurtosis             4.464667e+00\n",
       "jarque_bera          5.779147e+05\n",
       "jarque_bera_pval     0.000000e+00\n",
       "mode                 6.000000e+02\n",
       "mode_freq            7.168733e-02\n",
       "median               5.800000e+02"
      ]
     },
     "execution_count": 46,
     "metadata": {},
     "output_type": "execute_result"
    }
   ],
   "source": [
    "import statsmodels.api as sm\n",
    "import statsmodels.stats.descriptivestats as smdesc\n",
    "smdesc.describe(enem2019_dados['NU_NOTA_REDACAO'])"
   ]
  },
  {
   "cell_type": "code",
   "execution_count": 52,
   "metadata": {
    "ExecuteTime": {
     "end_time": "2021-01-24T02:50:19.186528Z",
     "start_time": "2021-01-24T02:50:05.241200Z"
    }
   },
   "outputs": [
    {
     "data": {
      "image/png": "[encoded data removed]",
      "text/plain": [
       "<Figure size 432x288 with 1 Axes>"
      ]
     },
     "metadata": {
      "needs_background": "light"
     },
     "output_type": "display_data"
    }
   ],
   "source": [
    "from scipy import stats\n",
    "stats.probplot(enem2019_dados['NU_NOTA_REDACAO'], plot=plt)\n",
    "plt.show()"
   ]
  },
  {
   "cell_type": "code",
   "execution_count": null,
   "metadata": {},
   "outputs": [],
   "source": []
  }
 ],
 "metadata": {
  "kernelspec": {
   "display_name": "Python 3",
   "language": "python",
   "name": "python3"
  },
  "language_info": {
   "codemirror_mode": {
    "name": "ipython",
    "version": 3
   },
   "file_extension": ".py",
   "mimetype": "text/x-python",
   "name": "python",
   "nbconvert_exporter": "python",
   "pygments_lexer": "ipython3",
   "version": "3.8.5"
  },
  "varInspector": {
   "cols": {
    "lenName": 16,
    "lenType": 16,
    "lenVar": 40
   },
   "kernels_config": {
    "python": {
     "delete_cmd_postfix": "",
     "delete_cmd_prefix": "del ",
     "library": "var_list.py",
     "varRefreshCmd": "print(var_dic_list())"
    },
    "r": {
     "delete_cmd_postfix": ") ",
     "delete_cmd_prefix": "rm(",
     "library": "var_list.r",
     "varRefreshCmd": "cat(var_dic_list()) "
    }
   },
   "position": {
    "height": "350.4px",
    "left": "1168px",
    "right": "20px",
    "top": "121px",
    "width": "350px"
   },
   "types_to_exclude": [
    "module",
    "function",
    "builtin_function_or_method",
    "instance",
    "_Feature"
   ],
   "window_display": false
  }
 },
 "nbformat": 4,
 "nbformat_minor": 4
}
