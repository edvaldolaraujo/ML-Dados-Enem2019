{
 "cells": [
  {
   "cell_type": "markdown",
   "metadata": {},
   "source": [
    "# ENEM 2019 - Experimento Machine Learning - Pré-Processamento"
   ]
  },
  {
   "cell_type": "markdown",
   "metadata": {},
   "source": [
    "## Análise Exploratória de Dados\n",
    "Esta é uma técnica inicial muito comum e, ao mesmo tempo, essencial para qualquer trabalho de machine learning.\n",
    "\n",
    "O objetivo é entender como os dados estão organizados, conhecer cada **feature** em termos de distribuição, presença de dados **missing**, **outliers** e medidas estatisticas que detalhem melhor os dados."
   ]
  },
  {
   "cell_type": "markdown",
   "metadata": {},
   "source": [
    "### Carregando o conjunto de dados e avaliando a estrutura"
   ]
  },
  {
   "cell_type": "code",
   "execution_count": 1,
   "metadata": {
    "ExecuteTime": {
     "end_time": "2021-05-07T01:20:07.206669Z",
     "start_time": "2021-05-07T01:20:02.057318Z"
    }
   },
   "outputs": [],
   "source": [
    "import pandas as pd"
   ]
  },
  {
   "cell_type": "code",
   "execution_count": 2,
   "metadata": {
    "ExecuteTime": {
     "end_time": "2021-05-07T01:24:27.094912Z",
     "start_time": "2021-05-07T01:20:07.855208Z"
    }
   },
   "outputs": [],
   "source": [
    "enem2019 = pd.read_csv(\"C:/Sandbox/MICRODADOS_ENEM_2019.csv\",  encoding = \"ISO-8859-1\", sep=';')"
   ]
  },
  {
   "cell_type": "code",
   "execution_count": 3,
   "metadata": {
    "ExecuteTime": {
     "end_time": "2021-01-24T00:20:14.647066Z",
     "start_time": "2021-01-24T00:20:06.804839Z"
    }
   },
   "outputs": [
    {
     "data": {
      "text/html": [
       "<div>\n",
       "<style scoped>\n",
       "    .dataframe tbody tr th:only-of-type {\n",
       "        vertical-align: middle;\n",
       "    }\n",
       "\n",
       "    .dataframe tbody tr th {\n",
       "        vertical-align: top;\n",
       "    }\n",
       "\n",
       "    .dataframe thead th {\n",
       "        text-align: right;\n",
       "    }\n",
       "</style>\n",
       "<table border=\"1\" class=\"dataframe\">\n",
       "  <thead>\n",
       "    <tr style=\"text-align: right;\">\n",
       "      <th></th>\n",
       "      <th>NU_INSCRICAO</th>\n",
       "      <th>NU_ANO</th>\n",
       "      <th>CO_MUNICIPIO_RESIDENCIA</th>\n",
       "      <th>NO_MUNICIPIO_RESIDENCIA</th>\n",
       "      <th>CO_UF_RESIDENCIA</th>\n",
       "      <th>SG_UF_RESIDENCIA</th>\n",
       "      <th>NU_IDADE</th>\n",
       "      <th>TP_SEXO</th>\n",
       "      <th>TP_ESTADO_CIVIL</th>\n",
       "      <th>TP_COR_RACA</th>\n",
       "      <th>...</th>\n",
       "      <th>Q016</th>\n",
       "      <th>Q017</th>\n",
       "      <th>Q018</th>\n",
       "      <th>Q019</th>\n",
       "      <th>Q020</th>\n",
       "      <th>Q021</th>\n",
       "      <th>Q022</th>\n",
       "      <th>Q023</th>\n",
       "      <th>Q024</th>\n",
       "      <th>Q025</th>\n",
       "    </tr>\n",
       "  </thead>\n",
       "  <tbody>\n",
       "    <tr>\n",
       "      <th>0</th>\n",
       "      <td>190001004627</td>\n",
       "      <td>2019</td>\n",
       "      <td>1506807</td>\n",
       "      <td>Santarém</td>\n",
       "      <td>15</td>\n",
       "      <td>PA</td>\n",
       "      <td>21</td>\n",
       "      <td>M</td>\n",
       "      <td>1</td>\n",
       "      <td>3</td>\n",
       "      <td>...</td>\n",
       "      <td>A</td>\n",
       "      <td>A</td>\n",
       "      <td>A</td>\n",
       "      <td>C</td>\n",
       "      <td>B</td>\n",
       "      <td>A</td>\n",
       "      <td>D</td>\n",
       "      <td>A</td>\n",
       "      <td>B</td>\n",
       "      <td>A</td>\n",
       "    </tr>\n",
       "    <tr>\n",
       "      <th>1</th>\n",
       "      <td>190001004628</td>\n",
       "      <td>2019</td>\n",
       "      <td>1504059</td>\n",
       "      <td>Mãe do Rio</td>\n",
       "      <td>15</td>\n",
       "      <td>PA</td>\n",
       "      <td>16</td>\n",
       "      <td>F</td>\n",
       "      <td>1</td>\n",
       "      <td>3</td>\n",
       "      <td>...</td>\n",
       "      <td>A</td>\n",
       "      <td>A</td>\n",
       "      <td>A</td>\n",
       "      <td>B</td>\n",
       "      <td>B</td>\n",
       "      <td>A</td>\n",
       "      <td>B</td>\n",
       "      <td>A</td>\n",
       "      <td>A</td>\n",
       "      <td>A</td>\n",
       "    </tr>\n",
       "    <tr>\n",
       "      <th>2</th>\n",
       "      <td>190001004629</td>\n",
       "      <td>2019</td>\n",
       "      <td>1505502</td>\n",
       "      <td>Paragominas</td>\n",
       "      <td>15</td>\n",
       "      <td>PA</td>\n",
       "      <td>18</td>\n",
       "      <td>F</td>\n",
       "      <td>1</td>\n",
       "      <td>1</td>\n",
       "      <td>...</td>\n",
       "      <td>B</td>\n",
       "      <td>A</td>\n",
       "      <td>A</td>\n",
       "      <td>D</td>\n",
       "      <td>B</td>\n",
       "      <td>B</td>\n",
       "      <td>D</td>\n",
       "      <td>A</td>\n",
       "      <td>C</td>\n",
       "      <td>B</td>\n",
       "    </tr>\n",
       "    <tr>\n",
       "      <th>3</th>\n",
       "      <td>190001004630</td>\n",
       "      <td>2019</td>\n",
       "      <td>1507706</td>\n",
       "      <td>São Sebastião da Boa Vista</td>\n",
       "      <td>15</td>\n",
       "      <td>PA</td>\n",
       "      <td>23</td>\n",
       "      <td>M</td>\n",
       "      <td>0</td>\n",
       "      <td>3</td>\n",
       "      <td>...</td>\n",
       "      <td>A</td>\n",
       "      <td>A</td>\n",
       "      <td>A</td>\n",
       "      <td>C</td>\n",
       "      <td>A</td>\n",
       "      <td>A</td>\n",
       "      <td>D</td>\n",
       "      <td>A</td>\n",
       "      <td>A</td>\n",
       "      <td>A</td>\n",
       "    </tr>\n",
       "    <tr>\n",
       "      <th>4</th>\n",
       "      <td>190001004631</td>\n",
       "      <td>2019</td>\n",
       "      <td>1503903</td>\n",
       "      <td>Juruti</td>\n",
       "      <td>15</td>\n",
       "      <td>PA</td>\n",
       "      <td>23</td>\n",
       "      <td>M</td>\n",
       "      <td>1</td>\n",
       "      <td>3</td>\n",
       "      <td>...</td>\n",
       "      <td>A</td>\n",
       "      <td>A</td>\n",
       "      <td>A</td>\n",
       "      <td>B</td>\n",
       "      <td>A</td>\n",
       "      <td>A</td>\n",
       "      <td>D</td>\n",
       "      <td>A</td>\n",
       "      <td>A</td>\n",
       "      <td>A</td>\n",
       "    </tr>\n",
       "    <tr>\n",
       "      <th>...</th>\n",
       "      <td>...</td>\n",
       "      <td>...</td>\n",
       "      <td>...</td>\n",
       "      <td>...</td>\n",
       "      <td>...</td>\n",
       "      <td>...</td>\n",
       "      <td>...</td>\n",
       "      <td>...</td>\n",
       "      <td>...</td>\n",
       "      <td>...</td>\n",
       "      <td>...</td>\n",
       "      <td>...</td>\n",
       "      <td>...</td>\n",
       "      <td>...</td>\n",
       "      <td>...</td>\n",
       "      <td>...</td>\n",
       "      <td>...</td>\n",
       "      <td>...</td>\n",
       "      <td>...</td>\n",
       "      <td>...</td>\n",
       "      <td>...</td>\n",
       "    </tr>\n",
       "    <tr>\n",
       "      <th>5095265</th>\n",
       "      <td>190006129589</td>\n",
       "      <td>2019</td>\n",
       "      <td>2928604</td>\n",
       "      <td>Santo Amaro</td>\n",
       "      <td>29</td>\n",
       "      <td>BA</td>\n",
       "      <td>28</td>\n",
       "      <td>F</td>\n",
       "      <td>2</td>\n",
       "      <td>2</td>\n",
       "      <td>...</td>\n",
       "      <td>A</td>\n",
       "      <td>A</td>\n",
       "      <td>A</td>\n",
       "      <td>B</td>\n",
       "      <td>A</td>\n",
       "      <td>A</td>\n",
       "      <td>B</td>\n",
       "      <td>A</td>\n",
       "      <td>A</td>\n",
       "      <td>B</td>\n",
       "    </tr>\n",
       "    <tr>\n",
       "      <th>5095266</th>\n",
       "      <td>190006129590</td>\n",
       "      <td>2019</td>\n",
       "      <td>2927408</td>\n",
       "      <td>Salvador</td>\n",
       "      <td>29</td>\n",
       "      <td>BA</td>\n",
       "      <td>25</td>\n",
       "      <td>M</td>\n",
       "      <td>1</td>\n",
       "      <td>2</td>\n",
       "      <td>...</td>\n",
       "      <td>A</td>\n",
       "      <td>A</td>\n",
       "      <td>A</td>\n",
       "      <td>A</td>\n",
       "      <td>A</td>\n",
       "      <td>A</td>\n",
       "      <td>B</td>\n",
       "      <td>A</td>\n",
       "      <td>A</td>\n",
       "      <td>A</td>\n",
       "    </tr>\n",
       "    <tr>\n",
       "      <th>5095267</th>\n",
       "      <td>190006129591</td>\n",
       "      <td>2019</td>\n",
       "      <td>2931806</td>\n",
       "      <td>Tremedal</td>\n",
       "      <td>29</td>\n",
       "      <td>BA</td>\n",
       "      <td>18</td>\n",
       "      <td>F</td>\n",
       "      <td>1</td>\n",
       "      <td>3</td>\n",
       "      <td>...</td>\n",
       "      <td>A</td>\n",
       "      <td>A</td>\n",
       "      <td>A</td>\n",
       "      <td>B</td>\n",
       "      <td>A</td>\n",
       "      <td>A</td>\n",
       "      <td>B</td>\n",
       "      <td>A</td>\n",
       "      <td>A</td>\n",
       "      <td>B</td>\n",
       "    </tr>\n",
       "    <tr>\n",
       "      <th>5095268</th>\n",
       "      <td>190006129592</td>\n",
       "      <td>2019</td>\n",
       "      <td>2927408</td>\n",
       "      <td>Salvador</td>\n",
       "      <td>29</td>\n",
       "      <td>BA</td>\n",
       "      <td>16</td>\n",
       "      <td>M</td>\n",
       "      <td>1</td>\n",
       "      <td>1</td>\n",
       "      <td>...</td>\n",
       "      <td>B</td>\n",
       "      <td>A</td>\n",
       "      <td>A</td>\n",
       "      <td>B</td>\n",
       "      <td>B</td>\n",
       "      <td>A</td>\n",
       "      <td>C</td>\n",
       "      <td>A</td>\n",
       "      <td>B</td>\n",
       "      <td>B</td>\n",
       "    </tr>\n",
       "    <tr>\n",
       "      <th>5095269</th>\n",
       "      <td>190006129593</td>\n",
       "      <td>2019</td>\n",
       "      <td>2914802</td>\n",
       "      <td>Itabuna</td>\n",
       "      <td>29</td>\n",
       "      <td>BA</td>\n",
       "      <td>25</td>\n",
       "      <td>F</td>\n",
       "      <td>1</td>\n",
       "      <td>2</td>\n",
       "      <td>...</td>\n",
       "      <td>B</td>\n",
       "      <td>A</td>\n",
       "      <td>B</td>\n",
       "      <td>B</td>\n",
       "      <td>B</td>\n",
       "      <td>A</td>\n",
       "      <td>B</td>\n",
       "      <td>A</td>\n",
       "      <td>B</td>\n",
       "      <td>B</td>\n",
       "    </tr>\n",
       "  </tbody>\n",
       "</table>\n",
       "<p>5095270 rows × 136 columns</p>\n",
       "</div>"
      ],
      "text/plain": [
       "         NU_INSCRICAO  NU_ANO  CO_MUNICIPIO_RESIDENCIA  \\\n",
       "0        190001004627    2019                  1506807   \n",
       "1        190001004628    2019                  1504059   \n",
       "2        190001004629    2019                  1505502   \n",
       "3        190001004630    2019                  1507706   \n",
       "4        190001004631    2019                  1503903   \n",
       "...               ...     ...                      ...   \n",
       "5095265  190006129589    2019                  2928604   \n",
       "5095266  190006129590    2019                  2927408   \n",
       "5095267  190006129591    2019                  2931806   \n",
       "5095268  190006129592    2019                  2927408   \n",
       "5095269  190006129593    2019                  2914802   \n",
       "\n",
       "            NO_MUNICIPIO_RESIDENCIA  CO_UF_RESIDENCIA SG_UF_RESIDENCIA  \\\n",
       "0                          Santarém                15               PA   \n",
       "1                        Mãe do Rio                15               PA   \n",
       "2                       Paragominas                15               PA   \n",
       "3        São Sebastião da Boa Vista                15               PA   \n",
       "4                            Juruti                15               PA   \n",
       "...                             ...               ...              ...   \n",
       "5095265                 Santo Amaro                29               BA   \n",
       "5095266                    Salvador                29               BA   \n",
       "5095267                    Tremedal                29               BA   \n",
       "5095268                    Salvador                29               BA   \n",
       "5095269                     Itabuna                29               BA   \n",
       "\n",
       "         NU_IDADE TP_SEXO  TP_ESTADO_CIVIL  TP_COR_RACA  ...  Q016  Q017 Q018  \\\n",
       "0              21       M                1            3  ...     A     A    A   \n",
       "1              16       F                1            3  ...     A     A    A   \n",
       "2              18       F                1            1  ...     B     A    A   \n",
       "3              23       M                0            3  ...     A     A    A   \n",
       "4              23       M                1            3  ...     A     A    A   \n",
       "...           ...     ...              ...          ...  ...   ...   ...  ...   \n",
       "5095265        28       F                2            2  ...     A     A    A   \n",
       "5095266        25       M                1            2  ...     A     A    A   \n",
       "5095267        18       F                1            3  ...     A     A    A   \n",
       "5095268        16       M                1            1  ...     B     A    A   \n",
       "5095269        25       F                1            2  ...     B     A    B   \n",
       "\n",
       "         Q019 Q020  Q021  Q022  Q023  Q024  Q025  \n",
       "0           C    B     A     D     A     B     A  \n",
       "1           B    B     A     B     A     A     A  \n",
       "2           D    B     B     D     A     C     B  \n",
       "3           C    A     A     D     A     A     A  \n",
       "4           B    A     A     D     A     A     A  \n",
       "...       ...  ...   ...   ...   ...   ...   ...  \n",
       "5095265     B    A     A     B     A     A     B  \n",
       "5095266     A    A     A     B     A     A     A  \n",
       "5095267     B    A     A     B     A     A     B  \n",
       "5095268     B    B     A     C     A     B     B  \n",
       "5095269     B    B     A     B     A     B     B  \n",
       "\n",
       "[5095270 rows x 136 columns]"
      ]
     },
     "execution_count": 3,
     "metadata": {},
     "output_type": "execute_result"
    }
   ],
   "source": [
    "enem2019"
   ]
  },
  {
   "cell_type": "markdown",
   "metadata": {},
   "source": [
    "### Pré-processamento dos dados"
   ]
  },
  {
   "cell_type": "markdown",
   "metadata": {},
   "source": [
    "Removendo dados não utilizados no experimento."
   ]
  },
  {
   "cell_type": "code",
   "execution_count": 3,
   "metadata": {
    "ExecuteTime": {
     "end_time": "2021-05-07T01:24:38.617054Z",
     "start_time": "2021-05-07T01:24:34.865094Z"
    }
   },
   "outputs": [],
   "source": [
    "remover = ['NU_ANO',\n",
    "    'NO_MUNICIPIO_RESIDENCIA', 'NO_MUNICIPIO_NASCIMENTO', 'NO_MUNICIPIO_ESC', 'NO_MUNICIPIO_PROVA', \n",
    "    'CO_MUNICIPIO_RESIDENCIA', 'CO_MUNICIPIO_NASCIMENTO', 'CO_UF_NASCIMENTO', 'SG_UF_NASCIMENTO', 'CO_ESCOLA', \n",
    "    'CO_MUNICIPIO_ESC', 'CO_UF_ESC', 'SG_UF_ESC', 'CO_MUNICIPIO_PROVA', 'CO_UF_PROVA', 'SG_UF_PROVA',\n",
    "    'TX_RESPOSTAS_CN', 'TX_RESPOSTAS_CH', 'TX_RESPOSTAS_LC', 'TX_RESPOSTAS_MT', 'TX_GABARITO_CN', 'TX_GABARITO_CH', \n",
    "    'TX_GABARITO_LC', 'TX_GABARITO_MT',\n",
    "    'IN_BAIXA_VISAO', 'IN_CEGUEIRA', 'IN_SURDEZ', 'IN_DEFICIENCIA_AUDITIVA', 'IN_SURDO_CEGUEIRA', 'IN_DEFICIENCIA_FISICA',           \n",
    "    'IN_DEFICIENCIA_MENTAL', 'IN_DEFICIT_ATENCAO', 'IN_DISLEXIA', 'IN_DISCALCULIA', 'IN_AUTISMO', 'IN_VISAO_MONOCULAR', \n",
    "    'IN_OUTRA_DEF', 'IN_GESTANTE', 'IN_LACTANTE', 'IN_IDOSO', 'IN_ESTUDA_CLASSE_HOSPITALAR', 'IN_SEM_RECURSO', 'IN_BRAILLE', \n",
    "    'IN_AMPLIADA_24', 'IN_AMPLIADA_18', 'IN_LEDOR', 'IN_ACESSO', 'IN_TRANSCRICAO', 'IN_LIBRAS', 'IN_TEMPO_ADICIONAL', \n",
    "    'IN_LEITURA_LABIAL', 'IN_MESA_CADEIRA_RODAS', 'IN_MESA_CADEIRA_SEPARADA', 'IN_APOIO_PERNA', 'IN_GUIA_INTERPRETE', \n",
    "    'IN_COMPUTADOR', 'IN_CADEIRA_ESPECIAL', 'IN_CADEIRA_CANHOTO', 'IN_CADEIRA_ACOLCHOADA', 'IN_PROVA_DEITADO', \n",
    "    'IN_MOBILIARIO_OBESO', 'IN_LAMINA_OVERLAY', 'IN_PROTETOR_AURICULAR', 'IN_MEDIDOR_GLICOSE', 'IN_MAQUINA_BRAILE', \n",
    "    'IN_SOROBAN', 'IN_MARCA_PASSO', 'IN_SONDA', 'IN_MEDICAMENTOS', 'IN_SALA_INDIVIDUAL', 'IN_SALA_ESPECIAL', \n",
    "    'IN_SALA_ACOMPANHANTE', 'IN_MOBILIARIO_ESPECIFICO', 'IN_MATERIAL_ESPECIFICO', 'IN_NOME_SOCIAL',\n",
    "    'TP_PRESENCA_CN', 'TP_PRESENCA_CH', 'TP_PRESENCA_LC', 'TP_PRESENCA_MT', 'CO_PROVA_CN', 'CO_PROVA_CH', 'CO_PROVA_LC',\n",
    "    'CO_PROVA_MT']\n",
    "\n",
    "\n",
    "enem2019_prep = enem2019.drop(columns=remover)"
   ]
  },
  {
   "cell_type": "markdown",
   "metadata": {},
   "source": [
    "Esta primeira tem como objetivo identificar casos **missing**. Não será necessária uma análise de outliers, pois os intervalos de valores são controlados e não há ocorrencia de dados atípicos. "
   ]
  },
  {
   "cell_type": "code",
   "execution_count": 5,
   "metadata": {
    "ExecuteTime": {
     "end_time": "2021-01-24T00:20:29.448516Z",
     "start_time": "2021-01-24T00:20:17.845563Z"
    }
   },
   "outputs": [
    {
     "data": {
      "text/plain": [
       "NU_INSCRICAO                    0\n",
       "CO_UF_RESIDENCIA                0\n",
       "SG_UF_RESIDENCIA                0\n",
       "NU_IDADE                        0\n",
       "TP_SEXO                         0\n",
       "TP_ESTADO_CIVIL                 0\n",
       "TP_COR_RACA                     0\n",
       "TP_NACIONALIDADE                0\n",
       "TP_ST_CONCLUSAO                 0\n",
       "TP_ANO_CONCLUIU                 0\n",
       "TP_ESCOLA                       0\n",
       "TP_ENSINO                 2217073\n",
       "IN_TREINEIRO                    0\n",
       "TP_DEPENDENCIA_ADM_ESC    3947858\n",
       "TP_LOCALIZACAO_ESC        3947858\n",
       "TP_SIT_FUNC_ESC           3947858\n",
       "NU_NOTA_CN                1384837\n",
       "NU_NOTA_CH                1172125\n",
       "NU_NOTA_LC                1172125\n",
       "NU_NOTA_MT                1384837\n",
       "TP_LINGUA                       0\n",
       "TP_STATUS_REDACAO         1172126\n",
       "NU_NOTA_COMP1             1172126\n",
       "NU_NOTA_COMP2             1172126\n",
       "NU_NOTA_COMP3             1172126\n",
       "NU_NOTA_COMP4             1172126\n",
       "NU_NOTA_COMP5             1172126\n",
       "NU_NOTA_REDACAO           1172126\n",
       "Q001                            0\n",
       "Q002                            0\n",
       "Q003                            0\n",
       "Q004                            0\n",
       "Q005                            0\n",
       "Q006                            0\n",
       "Q007                            0\n",
       "Q008                            0\n",
       "Q009                            0\n",
       "Q010                            0\n",
       "Q011                            0\n",
       "Q012                            0\n",
       "Q013                            0\n",
       "Q014                            0\n",
       "Q015                            0\n",
       "Q016                            0\n",
       "Q017                            0\n",
       "Q018                            0\n",
       "Q019                            0\n",
       "Q020                            0\n",
       "Q021                            0\n",
       "Q022                            0\n",
       "Q023                            0\n",
       "Q024                            0\n",
       "Q025                            0\n",
       "dtype: int64"
      ]
     },
     "execution_count": 5,
     "metadata": {},
     "output_type": "execute_result"
    }
   ],
   "source": [
    "enem2019_prep.isnull().sum()"
   ]
  },
  {
   "cell_type": "markdown",
   "metadata": {},
   "source": [
    "A ocorrência de casos missing exige que uma ação seja tomada.\n",
    "\n",
    "Primeiramente é importante avaliar as colunas que estão faltando e assim decidir por:\n",
    "1. Remover as colunas\n",
    "2. Remover as linhas\n",
    "3. Substituir os casos missing por um valor típico (ou mais frequente)\n",
    "4. Substituir os casos missing por um valor alternativo.\n",
    "\n",
    "Começando pelas colunas com prefixo `TP` vamos substituir os casos missing pela categoria 0 (zero)"
   ]
  },
  {
   "cell_type": "code",
   "execution_count": 4,
   "metadata": {
    "ExecuteTime": {
     "end_time": "2021-05-07T01:25:04.545424Z",
     "start_time": "2021-05-07T01:24:51.315871Z"
    }
   },
   "outputs": [
    {
     "data": {
      "text/plain": [
       "NU_INSCRICAO                    0\n",
       "CO_UF_RESIDENCIA                0\n",
       "SG_UF_RESIDENCIA                0\n",
       "NU_IDADE                        0\n",
       "TP_SEXO                         0\n",
       "TP_ESTADO_CIVIL                 0\n",
       "TP_COR_RACA                     0\n",
       "TP_NACIONALIDADE                0\n",
       "TP_ST_CONCLUSAO                 0\n",
       "TP_ANO_CONCLUIU                 0\n",
       "TP_ESCOLA                       0\n",
       "TP_ENSINO                       0\n",
       "IN_TREINEIRO                    0\n",
       "TP_DEPENDENCIA_ADM_ESC          0\n",
       "TP_LOCALIZACAO_ESC              0\n",
       "TP_SIT_FUNC_ESC                 0\n",
       "NU_NOTA_CN                1384837\n",
       "NU_NOTA_CH                1172125\n",
       "NU_NOTA_LC                1172125\n",
       "NU_NOTA_MT                1384837\n",
       "TP_LINGUA                       0\n",
       "TP_STATUS_REDACAO         1172126\n",
       "NU_NOTA_COMP1             1172126\n",
       "NU_NOTA_COMP2             1172126\n",
       "NU_NOTA_COMP3             1172126\n",
       "NU_NOTA_COMP4             1172126\n",
       "NU_NOTA_COMP5             1172126\n",
       "NU_NOTA_REDACAO           1172126\n",
       "Q001                            0\n",
       "Q002                            0\n",
       "Q003                            0\n",
       "Q004                            0\n",
       "Q005                            0\n",
       "Q006                            0\n",
       "Q007                            0\n",
       "Q008                            0\n",
       "Q009                            0\n",
       "Q010                            0\n",
       "Q011                            0\n",
       "Q012                            0\n",
       "Q013                            0\n",
       "Q014                            0\n",
       "Q015                            0\n",
       "Q016                            0\n",
       "Q017                            0\n",
       "Q018                            0\n",
       "Q019                            0\n",
       "Q020                            0\n",
       "Q021                            0\n",
       "Q022                            0\n",
       "Q023                            0\n",
       "Q024                            0\n",
       "Q025                            0\n",
       "dtype: int64"
      ]
     },
     "execution_count": 4,
     "metadata": {},
     "output_type": "execute_result"
    }
   ],
   "source": [
    "valores = {'TP_ENSINO':0, 'TP_DEPENDENCIA_ADM_ESC':0, 'TP_LOCALIZACAO_ESC':0, 'TP_SIT_FUNC_ESC':0}\n",
    "enem2019_prep.fillna(value=valores, inplace=True)\n",
    "enem2019_prep.isnull().sum()"
   ]
  },
  {
   "cell_type": "markdown",
   "metadata": {},
   "source": [
    "Avaliando as colunas de notas vemos que há dados missing. O tratamento dado para estes caso será remover as linhas que possuem alguma nota faltando. "
   ]
  },
  {
   "cell_type": "code",
   "execution_count": 5,
   "metadata": {
    "ExecuteTime": {
     "end_time": "2021-05-07T01:25:30.196205Z",
     "start_time": "2021-05-07T01:25:10.780410Z"
    }
   },
   "outputs": [
    {
     "data": {
      "text/plain": [
       "(3702007, 53)"
      ]
     },
     "execution_count": 5,
     "metadata": {},
     "output_type": "execute_result"
    }
   ],
   "source": [
    "enem2019_prep.dropna(how='any',axis=0, inplace=True)\n",
    "enem2019_prep.shape"
   ]
  },
  {
   "cell_type": "code",
   "execution_count": null,
   "metadata": {
    "ExecuteTime": {
     "start_time": "2021-05-07T01:22:40.865Z"
    }
   },
   "outputs": [],
   "source": [
    "enem2019_prep.to_csv('C:/Sandbox/MICRODADOS_ENEM_2019_clean.csv',index=False)"
   ]
  },
  {
   "cell_type": "code",
   "execution_count": null,
   "metadata": {},
   "outputs": [],
   "source": []
  }
 ],
 "metadata": {
  "kernelspec": {
   "display_name": "Python 3",
   "language": "python",
   "name": "python3"
  },
  "language_info": {
   "codemirror_mode": {
    "name": "ipython",
    "version": 3
   },
   "file_extension": ".py",
   "mimetype": "text/x-python",
   "name": "python",
   "nbconvert_exporter": "python",
   "pygments_lexer": "ipython3",
   "version": "3.8.5"
  },
  "varInspector": {
   "cols": {
    "lenName": 16,
    "lenType": 16,
    "lenVar": 40
   },
   "kernels_config": {
    "python": {
     "delete_cmd_postfix": "",
     "delete_cmd_prefix": "del ",
     "library": "var_list.py",
     "varRefreshCmd": "print(var_dic_list())"
    },
    "r": {
     "delete_cmd_postfix": ") ",
     "delete_cmd_prefix": "rm(",
     "library": "var_list.r",
     "varRefreshCmd": "cat(var_dic_list()) "
    }
   },
   "position": {
    "height": "350.4px",
    "left": "1168px",
    "right": "20px",
    "top": "121px",
    "width": "350px"
   },
   "types_to_exclude": [
    "module",
    "function",
    "builtin_function_or_method",
    "instance",
    "_Feature"
   ],
   "window_display": false
  }
 },
 "nbformat": 4,
 "nbformat_minor": 4
}
