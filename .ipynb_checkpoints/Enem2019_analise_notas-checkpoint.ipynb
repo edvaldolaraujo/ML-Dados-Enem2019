{
 "cells": [
  {
   "cell_type": "markdown",
   "metadata": {},
   "source": [
    "# Análise dos dados Enem-2019"
   ]
  },
  {
   "cell_type": "markdown",
   "metadata": {},
   "source": [
    "Análise dos das médias com o objetivo de explicar a nota da redação a partir das demais notas e, sendo possivel, criar um modelo de previsão da nota da redação com base nas outras notas."
   ]
  },
  {
   "cell_type": "markdown",
   "metadata": {},
   "source": [
    "## Carregando dados do Enem-2019"
   ]
  },
  {
   "cell_type": "markdown",
   "metadata": {},
   "source": [
    "Carregando os dados e preparando as variáveis categóricas"
   ]
  },
  {
   "cell_type": "code",
   "execution_count": 1,
   "metadata": {
    "ExecuteTime": {
     "end_time": "2021-04-17T20:57:31.106003Z",
     "start_time": "2021-04-17T20:57:25.566923Z"
    }
   },
   "outputs": [],
   "source": [
    "import pandas as pd"
   ]
  },
  {
   "cell_type": "code",
   "execution_count": 2,
   "metadata": {
    "ExecuteTime": {
     "end_time": "2021-04-17T20:57:50.356788Z",
     "start_time": "2021-04-17T20:57:37.736207Z"
    }
   },
   "outputs": [],
   "source": [
    "import seaborn as sns\n",
    "import matplotlib.pyplot as plt\n",
    "sns.set_theme(style=\"whitegrid\")"
   ]
  },
  {
   "cell_type": "code",
   "execution_count": 3,
   "metadata": {
    "ExecuteTime": {
     "end_time": "2021-04-17T20:58:01.424876Z",
     "start_time": "2021-04-17T20:57:51.757199Z"
    }
   },
   "outputs": [],
   "source": [
    "import statsmodels.api as sm\n",
    "from statsmodels.formula.api import ols\n",
    "import scipy.stats as stats\n",
    "import statsmodels.stats.multicomp"
   ]
  },
  {
   "cell_type": "code",
   "execution_count": 4,
   "metadata": {
    "ExecuteTime": {
     "end_time": "2021-04-17T20:58:21.360922Z",
     "start_time": "2021-04-17T20:58:07.913576Z"
    }
   },
   "outputs": [],
   "source": [
    "enem2019 = pd.read_csv(\"C:/Sandbox/MICRODADOS_ENEM_2019_interim.csv\",  encoding = \"ISO-8859-1\", sep=',')"
   ]
  },
  {
   "cell_type": "markdown",
   "metadata": {},
   "source": [
    "Uma rápida inspeção ajuda a entender o formato do conjunto de dados e suas colunas"
   ]
  },
  {
   "cell_type": "code",
   "execution_count": 5,
   "metadata": {
    "ExecuteTime": {
     "end_time": "2021-04-17T20:58:48.017097Z",
     "start_time": "2021-04-17T20:58:48.005082Z"
    },
    "scrolled": true
   },
   "outputs": [
    {
     "data": {
      "text/plain": [
       "(3702007, 53)"
      ]
     },
     "execution_count": 5,
     "metadata": {},
     "output_type": "execute_result"
    }
   ],
   "source": [
    "enem2019.shape"
   ]
  },
  {
   "cell_type": "code",
   "execution_count": 6,
   "metadata": {
    "ExecuteTime": {
     "end_time": "2021-04-17T20:58:52.876504Z",
     "start_time": "2021-04-17T20:58:52.860498Z"
    }
   },
   "outputs": [
    {
     "data": {
      "text/plain": [
       "Index(['NU_INSCRICAO', 'CO_UF_RESIDENCIA', 'SG_UF_RESIDENCIA', 'NU_IDADE',\n",
       "       'TP_SEXO', 'TP_ESTADO_CIVIL', 'TP_COR_RACA', 'TP_NACIONALIDADE',\n",
       "       'TP_ST_CONCLUSAO', 'TP_ANO_CONCLUIU', 'TP_ESCOLA', 'TP_ENSINO',\n",
       "       'IN_TREINEIRO', 'TP_DEPENDENCIA_ADM_ESC', 'TP_LOCALIZACAO_ESC',\n",
       "       'TP_SIT_FUNC_ESC', 'NU_NOTA_CN', 'NU_NOTA_CH', 'NU_NOTA_LC',\n",
       "       'NU_NOTA_MT', 'TP_LINGUA', 'TP_STATUS_REDACAO', 'NU_NOTA_COMP1',\n",
       "       'NU_NOTA_COMP2', 'NU_NOTA_COMP3', 'NU_NOTA_COMP4', 'NU_NOTA_COMP5',\n",
       "       'NU_NOTA_REDACAO', 'Q001', 'Q002', 'Q003', 'Q004', 'Q005', 'Q006',\n",
       "       'Q007', 'Q008', 'Q009', 'Q010', 'Q011', 'Q012', 'Q013', 'Q014', 'Q015',\n",
       "       'Q016', 'Q017', 'Q018', 'Q019', 'Q020', 'Q021', 'Q022', 'Q023', 'Q024',\n",
       "       'Q025'],\n",
       "      dtype='object')"
      ]
     },
     "execution_count": 6,
     "metadata": {},
     "output_type": "execute_result"
    }
   ],
   "source": [
    "enem2019.columns"
   ]
  },
  {
   "cell_type": "markdown",
   "metadata": {},
   "source": [
    "Dentre as colunas deste conjunto de dados há casos que são nitidamente categóricos. \n",
    "\n",
    "Para facilitar a análise uma boa prática é transformar o tipo de dados destas colunas de string para category."
   ]
  },
  {
   "cell_type": "code",
   "execution_count": 7,
   "metadata": {
    "ExecuteTime": {
     "end_time": "2021-04-17T20:59:07.555984Z",
     "start_time": "2021-04-17T20:58:57.256123Z"
    }
   },
   "outputs": [],
   "source": [
    "categoricos = ['SG_UF_RESIDENCIA', 'TP_SEXO', 'TP_ESTADO_CIVIL', 'TP_COR_RACA', 'TP_NACIONALIDADE', 'TP_ST_CONCLUSAO', \n",
    "               'TP_ANO_CONCLUIU', 'TP_ESCOLA', 'TP_ENSINO', 'IN_TREINEIRO', 'TP_DEPENDENCIA_ADM_ESC', 'TP_LOCALIZACAO_ESC',\n",
    "               'TP_SIT_FUNC_ESC', 'TP_LINGUA', 'TP_STATUS_REDACAO', \n",
    "               'Q001', 'Q002', 'Q003', 'Q004', 'Q006', 'Q007', 'Q008', 'Q009', 'Q010', 'Q011', 'Q012', 'Q013', 'Q014', 'Q015',\n",
    "               'Q016', 'Q017', 'Q018', 'Q019', 'Q020', 'Q021', 'Q022', 'Q023', 'Q024', 'Q025'\n",
    "              ]\n",
    "\n",
    "for campos in categoricos:\n",
    "    enem2019[campos] = enem2019[campos].astype(\"category\")"
   ]
  },
  {
   "cell_type": "markdown",
   "metadata": {},
   "source": [
    "## Análise exploratória dos dados"
   ]
  },
  {
   "cell_type": "markdown",
   "metadata": {},
   "source": [
    "### Avaliando os dados da redação em busca de entendimento acerca de suas medidas.\n",
    "\n",
    "A variável resposta (dependente) é `NU_NOTA_REDACAO`. Antes de seguir com o experimento é importante identificar possiveis problemas com os dados"
   ]
  },
  {
   "cell_type": "code",
   "execution_count": 8,
   "metadata": {
    "ExecuteTime": {
     "end_time": "2021-04-17T20:59:22.687793Z",
     "start_time": "2021-04-17T20:59:22.252271Z"
    }
   },
   "outputs": [
    {
     "data": {
      "text/plain": [
       "TP_STATUS_REDACAO  TP_STATUS_REDACAO\n",
       "1.0                1.0                  97.139660\n",
       "2.0                2.0                   0.133171\n",
       "3.0                3.0                   0.563424\n",
       "4.0                4.0                   0.948107\n",
       "6.0                6.0                   0.846190\n",
       "7.0                7.0                   0.091842\n",
       "8.0                8.0                   0.167261\n",
       "9.0                9.0                   0.110346\n",
       "Name: TP_STATUS_REDACAO, dtype: float64"
      ]
     },
     "execution_count": 8,
     "metadata": {},
     "output_type": "execute_result"
    }
   ],
   "source": [
    "enem2019.groupby('TP_STATUS_REDACAO')['TP_STATUS_REDACAO'].value_counts()/enem2019.shape[0]*100"
   ]
  },
  {
   "cell_type": "code",
   "execution_count": 9,
   "metadata": {
    "ExecuteTime": {
     "end_time": "2021-04-17T20:59:28.363713Z",
     "start_time": "2021-04-17T20:59:28.318642Z"
    }
   },
   "outputs": [
    {
     "data": {
      "text/plain": [
       "TP_STATUS_REDACAO\n",
       "1.0    596.841093\n",
       "2.0      0.000000\n",
       "3.0      0.000000\n",
       "4.0      0.000000\n",
       "6.0      0.000000\n",
       "7.0      0.000000\n",
       "8.0      0.000000\n",
       "9.0      0.000000\n",
       "Name: NU_NOTA_REDACAO, dtype: float64"
      ]
     },
     "execution_count": 9,
     "metadata": {},
     "output_type": "execute_result"
    }
   ],
   "source": [
    "enem2019.groupby('TP_STATUS_REDACAO')['NU_NOTA_REDACAO'].mean()"
   ]
  },
  {
   "cell_type": "markdown",
   "metadata": {
    "ExecuteTime": {
     "end_time": "2021-04-03T14:56:27.853113Z",
     "start_time": "2021-04-03T14:56:27.848158Z"
    }
   },
   "source": [
    "Ao explorar as colunas `TP_STATUS_REDACAO` e `NU_NOTA_REDACAO` vemos que cerca de **3%** dos participantes tem algum problema com a nota de redação e isto impacta a média da nota de redação.\n",
    "\n",
    "Para minimizar este impacto devemos remover os registros com TP_STATUS_REDACAO >1"
   ]
  },
  {
   "cell_type": "code",
   "execution_count": 10,
   "metadata": {
    "ExecuteTime": {
     "end_time": "2021-04-17T21:00:56.475787Z",
     "start_time": "2021-04-17T21:00:55.792966Z"
    }
   },
   "outputs": [],
   "source": [
    "enem2019_revisado = enem2019.drop(enem2019[enem2019.TP_STATUS_REDACAO != 1].index)"
   ]
  },
  {
   "cell_type": "code",
   "execution_count": 11,
   "metadata": {
    "ExecuteTime": {
     "end_time": "2021-04-17T21:02:22.890015Z",
     "start_time": "2021-04-17T21:01:28.689646Z"
    }
   },
   "outputs": [],
   "source": [
    "enem2019_revisado.to_csv('C:/Sandbox/MICRODADOS_ENEM_2019_redacao_ok.csv')"
   ]
  },
  {
   "cell_type": "code",
   "execution_count": 12,
   "metadata": {
    "ExecuteTime": {
     "end_time": "2021-04-17T21:03:53.852908Z",
     "start_time": "2021-04-17T21:03:53.842936Z"
    }
   },
   "outputs": [
    {
     "data": {
      "text/plain": [
       "(3596117, 53)"
      ]
     },
     "execution_count": 12,
     "metadata": {},
     "output_type": "execute_result"
    }
   ],
   "source": [
    "enem2019_revisado.shape"
   ]
  },
  {
   "cell_type": "markdown",
   "metadata": {},
   "source": [
    "### Comparando a nota de redação com as variáveis quantitativas"
   ]
  },
  {
   "cell_type": "markdown",
   "metadata": {},
   "source": [
    "Avaliando os dados numéricos após a exclusão dos casos com problemas na nota de redação."
   ]
  },
  {
   "cell_type": "code",
   "execution_count": 13,
   "metadata": {
    "ExecuteTime": {
     "end_time": "2021-04-17T21:04:06.721955Z",
     "start_time": "2021-04-17T21:04:04.276849Z"
    }
   },
   "outputs": [
    {
     "data": {
      "text/html": [
       "<div>\n",
       "<style scoped>\n",
       "    .dataframe tbody tr th:only-of-type {\n",
       "        vertical-align: middle;\n",
       "    }\n",
       "\n",
       "    .dataframe tbody tr th {\n",
       "        vertical-align: top;\n",
       "    }\n",
       "\n",
       "    .dataframe thead th {\n",
       "        text-align: right;\n",
       "    }\n",
       "</style>\n",
       "<table border=\"1\" class=\"dataframe\">\n",
       "  <thead>\n",
       "    <tr style=\"text-align: right;\">\n",
       "      <th></th>\n",
       "      <th>count</th>\n",
       "      <th>mean</th>\n",
       "      <th>std</th>\n",
       "      <th>min</th>\n",
       "      <th>25%</th>\n",
       "      <th>50%</th>\n",
       "      <th>75%</th>\n",
       "      <th>max</th>\n",
       "    </tr>\n",
       "  </thead>\n",
       "  <tbody>\n",
       "    <tr>\n",
       "      <th>NU_INSCRICAO</th>\n",
       "      <td>3596117.0</td>\n",
       "      <td>1.900035e+11</td>\n",
       "      <td>1.450862e+06</td>\n",
       "      <td>1.900010e+11</td>\n",
       "      <td>1.900022e+11</td>\n",
       "      <td>1.900035e+11</td>\n",
       "      <td>1.900047e+11</td>\n",
       "      <td>1.900061e+11</td>\n",
       "    </tr>\n",
       "    <tr>\n",
       "      <th>CO_UF_RESIDENCIA</th>\n",
       "      <td>3596117.0</td>\n",
       "      <td>3.069979e+01</td>\n",
       "      <td>9.843570e+00</td>\n",
       "      <td>1.100000e+01</td>\n",
       "      <td>2.400000e+01</td>\n",
       "      <td>3.100000e+01</td>\n",
       "      <td>3.500000e+01</td>\n",
       "      <td>5.300000e+01</td>\n",
       "    </tr>\n",
       "    <tr>\n",
       "      <th>NU_IDADE</th>\n",
       "      <td>3596117.0</td>\n",
       "      <td>2.112426e+01</td>\n",
       "      <td>6.861937e+00</td>\n",
       "      <td>1.000000e+00</td>\n",
       "      <td>1.700000e+01</td>\n",
       "      <td>1.900000e+01</td>\n",
       "      <td>2.200000e+01</td>\n",
       "      <td>9.200000e+01</td>\n",
       "    </tr>\n",
       "    <tr>\n",
       "      <th>NU_NOTA_CN</th>\n",
       "      <td>3596117.0</td>\n",
       "      <td>4.794389e+02</td>\n",
       "      <td>7.601345e+01</td>\n",
       "      <td>0.000000e+00</td>\n",
       "      <td>4.194000e+02</td>\n",
       "      <td>4.724000e+02</td>\n",
       "      <td>5.349000e+02</td>\n",
       "      <td>8.609000e+02</td>\n",
       "    </tr>\n",
       "    <tr>\n",
       "      <th>NU_NOTA_CH</th>\n",
       "      <td>3596117.0</td>\n",
       "      <td>5.119934e+02</td>\n",
       "      <td>8.028143e+01</td>\n",
       "      <td>0.000000e+00</td>\n",
       "      <td>4.537000e+02</td>\n",
       "      <td>5.157000e+02</td>\n",
       "      <td>5.701000e+02</td>\n",
       "      <td>8.351000e+02</td>\n",
       "    </tr>\n",
       "    <tr>\n",
       "      <th>NU_NOTA_LC</th>\n",
       "      <td>3596117.0</td>\n",
       "      <td>5.243249e+02</td>\n",
       "      <td>6.164076e+01</td>\n",
       "      <td>0.000000e+00</td>\n",
       "      <td>4.881000e+02</td>\n",
       "      <td>5.294000e+02</td>\n",
       "      <td>5.677000e+02</td>\n",
       "      <td>8.017000e+02</td>\n",
       "    </tr>\n",
       "    <tr>\n",
       "      <th>NU_NOTA_MT</th>\n",
       "      <td>3596117.0</td>\n",
       "      <td>5.252794e+02</td>\n",
       "      <td>1.092460e+02</td>\n",
       "      <td>0.000000e+00</td>\n",
       "      <td>4.369000e+02</td>\n",
       "      <td>5.039000e+02</td>\n",
       "      <td>6.006000e+02</td>\n",
       "      <td>9.855000e+02</td>\n",
       "    </tr>\n",
       "    <tr>\n",
       "      <th>NU_NOTA_COMP1</th>\n",
       "      <td>3596117.0</td>\n",
       "      <td>1.254863e+02</td>\n",
       "      <td>2.426533e+01</td>\n",
       "      <td>0.000000e+00</td>\n",
       "      <td>1.200000e+02</td>\n",
       "      <td>1.200000e+02</td>\n",
       "      <td>1.400000e+02</td>\n",
       "      <td>2.000000e+02</td>\n",
       "    </tr>\n",
       "    <tr>\n",
       "      <th>NU_NOTA_COMP2</th>\n",
       "      <td>3596117.0</td>\n",
       "      <td>1.281383e+02</td>\n",
       "      <td>3.629410e+01</td>\n",
       "      <td>4.000000e+01</td>\n",
       "      <td>1.200000e+02</td>\n",
       "      <td>1.200000e+02</td>\n",
       "      <td>1.400000e+02</td>\n",
       "      <td>2.000000e+02</td>\n",
       "    </tr>\n",
       "    <tr>\n",
       "      <th>NU_NOTA_COMP3</th>\n",
       "      <td>3596117.0</td>\n",
       "      <td>1.199369e+02</td>\n",
       "      <td>3.391945e+01</td>\n",
       "      <td>0.000000e+00</td>\n",
       "      <td>1.000000e+02</td>\n",
       "      <td>1.200000e+02</td>\n",
       "      <td>1.400000e+02</td>\n",
       "      <td>2.000000e+02</td>\n",
       "    </tr>\n",
       "    <tr>\n",
       "      <th>NU_NOTA_COMP4</th>\n",
       "      <td>3596117.0</td>\n",
       "      <td>1.269170e+02</td>\n",
       "      <td>3.050705e+01</td>\n",
       "      <td>0.000000e+00</td>\n",
       "      <td>1.200000e+02</td>\n",
       "      <td>1.200000e+02</td>\n",
       "      <td>1.400000e+02</td>\n",
       "      <td>2.000000e+02</td>\n",
       "    </tr>\n",
       "    <tr>\n",
       "      <th>NU_NOTA_COMP5</th>\n",
       "      <td>3596117.0</td>\n",
       "      <td>9.636264e+01</td>\n",
       "      <td>5.761878e+01</td>\n",
       "      <td>0.000000e+00</td>\n",
       "      <td>6.000000e+01</td>\n",
       "      <td>1.000000e+02</td>\n",
       "      <td>1.400000e+02</td>\n",
       "      <td>2.000000e+02</td>\n",
       "    </tr>\n",
       "    <tr>\n",
       "      <th>NU_NOTA_REDACAO</th>\n",
       "      <td>3596117.0</td>\n",
       "      <td>5.968411e+02</td>\n",
       "      <td>1.552490e+02</td>\n",
       "      <td>4.000000e+01</td>\n",
       "      <td>5.000000e+02</td>\n",
       "      <td>5.800000e+02</td>\n",
       "      <td>6.800000e+02</td>\n",
       "      <td>1.000000e+03</td>\n",
       "    </tr>\n",
       "    <tr>\n",
       "      <th>Q005</th>\n",
       "      <td>3596117.0</td>\n",
       "      <td>3.896629e+00</td>\n",
       "      <td>1.430547e+00</td>\n",
       "      <td>1.000000e+00</td>\n",
       "      <td>3.000000e+00</td>\n",
       "      <td>4.000000e+00</td>\n",
       "      <td>5.000000e+00</td>\n",
       "      <td>2.000000e+01</td>\n",
       "    </tr>\n",
       "  </tbody>\n",
       "</table>\n",
       "</div>"
      ],
      "text/plain": [
       "                      count          mean           std           min  \\\n",
       "NU_INSCRICAO      3596117.0  1.900035e+11  1.450862e+06  1.900010e+11   \n",
       "CO_UF_RESIDENCIA  3596117.0  3.069979e+01  9.843570e+00  1.100000e+01   \n",
       "NU_IDADE          3596117.0  2.112426e+01  6.861937e+00  1.000000e+00   \n",
       "NU_NOTA_CN        3596117.0  4.794389e+02  7.601345e+01  0.000000e+00   \n",
       "NU_NOTA_CH        3596117.0  5.119934e+02  8.028143e+01  0.000000e+00   \n",
       "NU_NOTA_LC        3596117.0  5.243249e+02  6.164076e+01  0.000000e+00   \n",
       "NU_NOTA_MT        3596117.0  5.252794e+02  1.092460e+02  0.000000e+00   \n",
       "NU_NOTA_COMP1     3596117.0  1.254863e+02  2.426533e+01  0.000000e+00   \n",
       "NU_NOTA_COMP2     3596117.0  1.281383e+02  3.629410e+01  4.000000e+01   \n",
       "NU_NOTA_COMP3     3596117.0  1.199369e+02  3.391945e+01  0.000000e+00   \n",
       "NU_NOTA_COMP4     3596117.0  1.269170e+02  3.050705e+01  0.000000e+00   \n",
       "NU_NOTA_COMP5     3596117.0  9.636264e+01  5.761878e+01  0.000000e+00   \n",
       "NU_NOTA_REDACAO   3596117.0  5.968411e+02  1.552490e+02  4.000000e+01   \n",
       "Q005              3596117.0  3.896629e+00  1.430547e+00  1.000000e+00   \n",
       "\n",
       "                           25%           50%           75%           max  \n",
       "NU_INSCRICAO      1.900022e+11  1.900035e+11  1.900047e+11  1.900061e+11  \n",
       "CO_UF_RESIDENCIA  2.400000e+01  3.100000e+01  3.500000e+01  5.300000e+01  \n",
       "NU_IDADE          1.700000e+01  1.900000e+01  2.200000e+01  9.200000e+01  \n",
       "NU_NOTA_CN        4.194000e+02  4.724000e+02  5.349000e+02  8.609000e+02  \n",
       "NU_NOTA_CH        4.537000e+02  5.157000e+02  5.701000e+02  8.351000e+02  \n",
       "NU_NOTA_LC        4.881000e+02  5.294000e+02  5.677000e+02  8.017000e+02  \n",
       "NU_NOTA_MT        4.369000e+02  5.039000e+02  6.006000e+02  9.855000e+02  \n",
       "NU_NOTA_COMP1     1.200000e+02  1.200000e+02  1.400000e+02  2.000000e+02  \n",
       "NU_NOTA_COMP2     1.200000e+02  1.200000e+02  1.400000e+02  2.000000e+02  \n",
       "NU_NOTA_COMP3     1.000000e+02  1.200000e+02  1.400000e+02  2.000000e+02  \n",
       "NU_NOTA_COMP4     1.200000e+02  1.200000e+02  1.400000e+02  2.000000e+02  \n",
       "NU_NOTA_COMP5     6.000000e+01  1.000000e+02  1.400000e+02  2.000000e+02  \n",
       "NU_NOTA_REDACAO   5.000000e+02  5.800000e+02  6.800000e+02  1.000000e+03  \n",
       "Q005              3.000000e+00  4.000000e+00  5.000000e+00  2.000000e+01  "
      ]
     },
     "execution_count": 13,
     "metadata": {},
     "output_type": "execute_result"
    }
   ],
   "source": [
    "(enem2019_revisado.describe().T).to_csv('C:/Sandbox/MICRODADOS_ENEM_2019_sumario.csv')\n",
    "(enem2019_revisado.describe().T)"
   ]
  },
  {
   "cell_type": "markdown",
   "metadata": {
    "ExecuteTime": {
     "end_time": "2021-04-17T14:43:53.802616Z",
     "start_time": "2021-04-17T14:43:53.790600Z"
    }
   },
   "source": [
    "Após a remoção dos casos com problema na nota de redação notamos que a média é aproximadamente `596.84`."
   ]
  },
  {
   "cell_type": "markdown",
   "metadata": {},
   "source": [
    "### Comparando a nota de redação com as variáveis qualitativas"
   ]
  },
  {
   "cell_type": "markdown",
   "metadata": {},
   "source": [
    "Antes de seguir com a análise é importante avaliar se as colunas categóricas podem ser úteis para a análise e interpretação dos resultados."
   ]
  },
  {
   "cell_type": "code",
   "execution_count": 14,
   "metadata": {
    "ExecuteTime": {
     "end_time": "2021-04-17T21:15:13.201605Z",
     "start_time": "2021-04-17T21:15:11.833514Z"
    }
   },
   "outputs": [
    {
     "name": "stdout",
     "output_type": "stream",
     "text": [
      "SG_UF_RESIDENCIA\n",
      "AC     0.734292\n",
      "AL     1.839846\n",
      "AM     1.975214\n",
      "AP     0.789546\n",
      "BA     7.788456\n",
      "CE     5.879620\n",
      "DF     1.815847\n",
      "ES     1.962978\n",
      "GO     3.358261\n",
      "MA     4.373217\n",
      "MG    10.699263\n",
      "MS     1.318339\n",
      "MT     1.616772\n",
      "PA     5.558412\n",
      "PB     3.072314\n",
      "PE     5.412644\n",
      "PI     2.523222\n",
      "PR     4.116023\n",
      "RJ     6.635796\n",
      "RN     2.441383\n",
      "RO     1.094542\n",
      "RR     0.234420\n",
      "RS     4.256508\n",
      "SC     2.159552\n",
      "SE     1.562102\n",
      "SP    15.871202\n",
      "TO     0.910232\n",
      "Name: NU_NOTA_REDACAO, dtype: float64\n",
      "TP_SEXO\n",
      "F    59.595892\n",
      "M    40.404108\n",
      "Name: NU_NOTA_REDACAO, dtype: float64\n",
      "TP_ESTADO_CIVIL\n",
      "0     3.485148\n",
      "1    89.056335\n",
      "2     5.978087\n",
      "3     1.384910\n",
      "4     0.095520\n",
      "Name: NU_NOTA_REDACAO, dtype: float64\n",
      "TP_COR_RACA\n",
      "0     1.965259\n",
      "1    37.481456\n",
      "2    12.191122\n",
      "3    45.511951\n",
      "4     2.288607\n",
      "5     0.561606\n",
      "Name: NU_NOTA_REDACAO, dtype: float64\n",
      "TP_NACIONALIDADE\n",
      "0     0.133867\n",
      "1    97.165526\n",
      "2     2.414604\n",
      "3     0.109729\n",
      "4     0.176273\n",
      "Name: NU_NOTA_REDACAO, dtype: float64\n",
      "TP_ST_CONCLUSAO\n",
      "1    52.920636\n",
      "2    32.724325\n",
      "3    14.084859\n",
      "4     0.270180\n",
      "Name: NU_NOTA_REDACAO, dtype: float64\n",
      "TP_ANO_CONCLUIU\n",
      "0     48.751195\n",
      "1     13.303349\n",
      "2      8.522248\n",
      "3      5.638637\n",
      "4      4.085573\n",
      "5      3.116945\n",
      "6      2.382208\n",
      "7      1.970459\n",
      "8      1.522142\n",
      "9      1.361468\n",
      "10     1.191563\n",
      "11     0.975608\n",
      "12     0.897190\n",
      "13     6.281414\n",
      "Name: NU_NOTA_REDACAO, dtype: float64\n",
      "TP_ESCOLA\n",
      "1    67.275703\n",
      "2    26.990724\n",
      "3     5.733573\n",
      "Name: NU_NOTA_REDACAO, dtype: float64\n",
      "TP_ENSINO\n",
      "0.0    42.579427\n",
      "1.0    57.186376\n",
      "2.0     0.234197\n",
      "Name: NU_NOTA_REDACAO, dtype: float64\n",
      "IN_TREINEIRO\n",
      "0    85.915141\n",
      "1    14.084859\n",
      "Name: NU_NOTA_REDACAO, dtype: float64\n",
      "TP_DEPENDENCIA_ADM_ESC\n",
      "0.0    74.380088\n",
      "1.0     1.289752\n",
      "2.0    19.803332\n",
      "3.0     0.212507\n",
      "4.0     4.314320\n",
      "Name: NU_NOTA_REDACAO, dtype: float64\n",
      "TP_LOCALIZACAO_ESC\n",
      "0.0    74.380088\n",
      "1.0    24.748249\n",
      "2.0     0.871662\n",
      "Name: NU_NOTA_REDACAO, dtype: float64\n",
      "TP_SIT_FUNC_ESC\n",
      "0.0    74.380088\n",
      "1.0    25.547695\n",
      "2.0     0.028531\n",
      "3.0     0.004811\n",
      "4.0     0.038875\n",
      "Name: NU_NOTA_REDACAO, dtype: float64\n",
      "TP_LINGUA\n",
      "0    49.978296\n",
      "1    50.021704\n",
      "Name: NU_NOTA_REDACAO, dtype: float64\n",
      "TP_STATUS_REDACAO\n",
      "1.0    100.0\n",
      "2.0      0.0\n",
      "3.0      0.0\n",
      "4.0      0.0\n",
      "6.0      0.0\n",
      "7.0      0.0\n",
      "8.0      0.0\n",
      "9.0      0.0\n",
      "Name: NU_NOTA_REDACAO, dtype: float64\n",
      "Q001\n",
      "A     4.879318\n",
      "B    20.161469\n",
      "C    13.894181\n",
      "D    11.719446\n",
      "E    27.398858\n",
      "F     8.475781\n",
      "G     5.325995\n",
      "H     8.144952\n",
      "Name: NU_NOTA_REDACAO, dtype: float64\n",
      "Q002\n",
      "A     3.151260\n",
      "B    14.716262\n",
      "C    12.657402\n",
      "D    12.822275\n",
      "E    33.540149\n",
      "F    11.416453\n",
      "G     9.147978\n",
      "H     2.548221\n",
      "Name: NU_NOTA_REDACAO, dtype: float64\n",
      "Q003\n",
      "A    19.986530\n",
      "B    20.427478\n",
      "C    23.445177\n",
      "D    19.029025\n",
      "E     6.334221\n",
      "F    10.777569\n",
      "Name: NU_NOTA_REDACAO, dtype: float64\n",
      "Q004\n",
      "A    16.197165\n",
      "B    41.709600\n",
      "C     6.774335\n",
      "D    22.465871\n",
      "E     4.368684\n",
      "F     8.484346\n",
      "Name: NU_NOTA_REDACAO, dtype: float64\n",
      "Q006\n",
      "A     4.149059\n",
      "B    23.679819\n",
      "C    24.388695\n",
      "D     9.687644\n",
      "E     9.426946\n",
      "F     4.706048\n",
      "G     6.421955\n",
      "H     4.249389\n",
      "I     3.242386\n",
      "J     1.837371\n",
      "K     1.336553\n",
      "L     1.014789\n",
      "M     0.993905\n",
      "N     1.424258\n",
      "O     1.156831\n",
      "P     0.996603\n",
      "Q     1.287750\n",
      "Name: NU_NOTA_REDACAO, dtype: float64\n",
      "Q007\n",
      "A    92.011133\n",
      "B     4.230229\n",
      "C     0.904698\n",
      "D     2.853939\n",
      "Name: NU_NOTA_REDACAO, dtype: float64\n",
      "Q008\n",
      "A     0.882758\n",
      "B    67.646353\n",
      "C    21.931072\n",
      "D     6.254830\n",
      "E     3.284988\n",
      "Name: NU_NOTA_REDACAO, dtype: float64\n",
      "Q009\n",
      "A     0.698865\n",
      "B    11.822613\n",
      "C    49.770433\n",
      "D    32.343859\n",
      "E     5.364230\n",
      "Name: NU_NOTA_REDACAO, dtype: float64\n",
      "Q010\n",
      "A    53.552012\n",
      "B    36.580540\n",
      "C     8.469691\n",
      "D     1.153939\n",
      "E     0.243819\n",
      "Name: NU_NOTA_REDACAO, dtype: float64\n",
      "Q011\n",
      "A    77.213728\n",
      "B    20.545049\n",
      "C     2.011809\n",
      "D     0.193626\n",
      "E     0.035789\n",
      "Name: NU_NOTA_REDACAO, dtype: float64\n",
      "Q012\n",
      "A     1.549950\n",
      "B    93.793889\n",
      "C     4.295244\n",
      "D     0.303355\n",
      "E     0.057562\n",
      "Name: NU_NOTA_REDACAO, dtype: float64\n",
      "Q013\n",
      "A    61.340691\n",
      "B    35.812934\n",
      "C     2.483290\n",
      "D     0.294178\n",
      "E     0.068908\n",
      "Name: NU_NOTA_REDACAO, dtype: float64\n",
      "Q014\n",
      "A    39.238045\n",
      "B    59.780257\n",
      "C     0.936204\n",
      "D     0.036456\n",
      "E     0.009038\n",
      "Name: NU_NOTA_REDACAO, dtype: float64\n",
      "Q015\n",
      "A    87.931121\n",
      "B    11.921414\n",
      "C     0.131002\n",
      "D     0.010372\n",
      "E     0.006090\n",
      "Name: NU_NOTA_REDACAO, dtype: float64\n",
      "Q016\n",
      "A    48.919293\n",
      "B    50.521437\n",
      "C     0.526123\n",
      "D     0.025277\n",
      "E     0.007870\n",
      "Name: NU_NOTA_REDACAO, dtype: float64\n",
      "Q017\n",
      "A    97.303925\n",
      "B     2.647439\n",
      "C     0.036150\n",
      "D     0.007286\n",
      "E     0.005200\n",
      "Name: NU_NOTA_REDACAO, dtype: float64\n",
      "Q018\n",
      "A    78.899129\n",
      "B    21.100871\n",
      "Name: NU_NOTA_REDACAO, dtype: float64\n",
      "Q019\n",
      "A     4.449216\n",
      "B    67.012113\n",
      "C    19.146513\n",
      "D     6.429685\n",
      "E     2.962473\n",
      "Name: NU_NOTA_REDACAO, dtype: float64\n",
      "Q020\n",
      "A    68.158906\n",
      "B    31.841094\n",
      "Name: NU_NOTA_REDACAO, dtype: float64\n",
      "Q021\n",
      "A    76.26679\n",
      "B    23.73321\n",
      "Name: NU_NOTA_REDACAO, dtype: float64\n",
      "Q022\n",
      "A     2.026964\n",
      "B    19.182023\n",
      "C    29.973914\n",
      "D    28.847476\n",
      "E    19.969623\n",
      "Name: NU_NOTA_REDACAO, dtype: float64\n",
      "Q023\n",
      "A    74.520573\n",
      "B    25.479427\n",
      "Name: NU_NOTA_REDACAO, dtype: float64\n",
      "Q024\n",
      "A    43.225596\n",
      "B    44.594767\n",
      "C     8.484123\n",
      "D     2.610149\n",
      "E     1.085365\n",
      "Name: NU_NOTA_REDACAO, dtype: float64\n",
      "Q025\n",
      "A    20.702719\n",
      "B    79.297281\n",
      "Name: NU_NOTA_REDACAO, dtype: float64\n"
     ]
    }
   ],
   "source": [
    "for campos in categoricos:\n",
    "    print(enem2019_revisado.groupby(campos)['NU_NOTA_REDACAO'].count()/enem2019_revisado.shape[0]*100)\n",
    "    "
   ]
  },
  {
   "cell_type": "markdown",
   "metadata": {},
   "source": [
    "### Definindo e analisando variáveis que serão mantidas."
   ]
  },
  {
   "cell_type": "markdown",
   "metadata": {},
   "source": [
    "A partir destas porporções notamos que há casos que podem não ser relevantes ou gerar algum equívoco na interpretação. Por isso vamos manter seguintes colunas:\n",
    "* SG_UF_RESIDENCIA\n",
    "* TP_SEXO\n",
    "* TP_COR_RACA"
   ]
  },
  {
   "cell_type": "code",
   "execution_count": 15,
   "metadata": {
    "ExecuteTime": {
     "end_time": "2021-04-17T21:15:28.288738Z",
     "start_time": "2021-04-17T21:15:28.166771Z"
    }
   },
   "outputs": [
    {
     "name": "stdout",
     "output_type": "stream",
     "text": [
      "% TP_SEXO\n",
      "F    59.595892\n",
      "M    40.404108\n",
      "Name: NU_NOTA_REDACAO, dtype: float64\n",
      "\n",
      "% TP_COR_RACA\n",
      "0     1.965259\n",
      "1    37.481456\n",
      "2    12.191122\n",
      "3    45.511951\n",
      "4     2.288607\n",
      "5     0.561606\n",
      "Name: NU_NOTA_REDACAO, dtype: float64\n",
      "\n",
      "% SG_UF_RESIDENCIA\n",
      "AC     0.734292\n",
      "AL     1.839846\n",
      "AM     1.975214\n",
      "AP     0.789546\n",
      "BA     7.788456\n",
      "CE     5.879620\n",
      "DF     1.815847\n",
      "ES     1.962978\n",
      "GO     3.358261\n",
      "MA     4.373217\n",
      "MG    10.699263\n",
      "MS     1.318339\n",
      "MT     1.616772\n",
      "PA     5.558412\n",
      "PB     3.072314\n",
      "PE     5.412644\n",
      "PI     2.523222\n",
      "PR     4.116023\n",
      "RJ     6.635796\n",
      "RN     2.441383\n",
      "RO     1.094542\n",
      "RR     0.234420\n",
      "RS     4.256508\n",
      "SC     2.159552\n",
      "SE     1.562102\n",
      "SP    15.871202\n",
      "TO     0.910232\n",
      "Name: NU_NOTA_REDACAO, dtype: float64\n",
      "\n"
     ]
    }
   ],
   "source": [
    "lista = ['TP_SEXO', 'TP_COR_RACA', 'SG_UF_RESIDENCIA']\n",
    "for campos in lista:\n",
    "    #print('Count',enem2019_revisado.groupby(campos)['NU_NOTA_REDACAO'].count())\n",
    "    print('%',enem2019_revisado.groupby(campos)['NU_NOTA_REDACAO'].count()/enem2019_revisado.shape[0]*100)\n",
    "    #print('Mean',enem2019_revisado.groupby(campos)['NU_NOTA_REDACAO'].mean())\n",
    "    #print('Std',enem2019_revisado.groupby(campos)['NU_NOTA_REDACAO'].std())\n",
    "    print()"
   ]
  },
  {
   "cell_type": "markdown",
   "metadata": {},
   "source": [
    "Análise exploratória apenas da nota da redação."
   ]
  },
  {
   "cell_type": "code",
   "execution_count": 16,
   "metadata": {
    "ExecuteTime": {
     "end_time": "2021-04-17T21:16:28.429676Z",
     "start_time": "2021-04-17T21:16:27.509225Z"
    }
   },
   "outputs": [
    {
     "name": "stdout",
     "output_type": "stream",
     "text": [
      "Média de NU_NOTA_REDACAO 596.8410927675601\n"
     ]
    },
    {
     "data": {
      "image/png": "[encoded data removed]",
      "text/plain": [
       "<Figure size 432x288 with 1 Axes>"
      ]
     },
     "metadata": {},
     "output_type": "display_data"
    }
   ],
   "source": [
    "print('Média de NU_NOTA_REDACAO',enem2019_revisado['NU_NOTA_REDACAO'].mean())\n",
    "sns.boxplot( y=\"NU_NOTA_REDACAO\", data=enem2019_revisado,  linewidth=1.5)\n",
    "plt.savefig('boxp_Redacao.png')"
   ]
  },
  {
   "cell_type": "code",
   "execution_count": 17,
   "metadata": {
    "ExecuteTime": {
     "end_time": "2021-04-17T21:16:36.276011Z",
     "start_time": "2021-04-17T21:16:35.067530Z"
    }
   },
   "outputs": [
    {
     "data": {
      "image/png": "[encoded data removed]",
      "text/plain": [
       "<Figure size 360x360 with 1 Axes>"
      ]
     },
     "metadata": {},
     "output_type": "display_data"
    }
   ],
   "source": [
    "sns.displot(data=enem2019_revisado, x=\"NU_NOTA_REDACAO\")\n",
    "plt.savefig(\"disp_Redacao.png\")"
   ]
  },
  {
   "cell_type": "markdown",
   "metadata": {},
   "source": [
    "Avaliando as notas de redação vemos que os dados sugerem uma distribuição próxima a Normal. \n",
    "\n",
    "A partir deste momento faz sentido avaliar se a nota de redação continua com a média e distribuição quando abrimos pelas variáveis categóricas"
   ]
  },
  {
   "cell_type": "markdown",
   "metadata": {},
   "source": [
    "Comparando a nota da redação com o gênero dos participantes."
   ]
  },
  {
   "cell_type": "code",
   "execution_count": 18,
   "metadata": {
    "ExecuteTime": {
     "end_time": "2021-04-17T21:21:30.720922Z",
     "start_time": "2021-04-17T21:21:30.011801Z"
    }
   },
   "outputs": [
    {
     "name": "stdout",
     "output_type": "stream",
     "text": [
      "Média de NU_NOTA_REDACAO 596.8410927675601\n"
     ]
    },
    {
     "data": {
      "image/png": "[encoded data removed]",
      "text/plain": [
       "<Figure size 432x288 with 1 Axes>"
      ]
     },
     "metadata": {},
     "output_type": "display_data"
    }
   ],
   "source": [
    "print('Média de NU_NOTA_REDACAO',enem2019_revisado['NU_NOTA_REDACAO'].mean())\n",
    "sns.boxplot(x=\"TP_SEXO\", y=\"NU_NOTA_REDACAO\",  data=enem2019_revisado,  linewidth=1.5)\n",
    "plt.savefig(\"boxp_Redacao_Genero.png\")"
   ]
  },
  {
   "cell_type": "code",
   "execution_count": 19,
   "metadata": {
    "ExecuteTime": {
     "end_time": "2021-04-17T21:22:29.898547Z",
     "start_time": "2021-04-17T21:22:27.102882Z"
    }
   },
   "outputs": [
    {
     "data": {
      "image/png": "[encoded data removed]",
      "text/plain": [
       "<Figure size 720x360 with 2 Axes>"
      ]
     },
     "metadata": {},
     "output_type": "display_data"
    }
   ],
   "source": [
    "sns.displot(data=enem2019_revisado, x=\"NU_NOTA_REDACAO\", col=\"TP_SEXO\", multiple=\"dodge\")\n",
    "plt.savefig(\"disp_Redacao_Genero.png\")"
   ]
  },
  {
   "cell_type": "markdown",
   "metadata": {},
   "source": [
    "Comparando a nota da redação com a raça dos participantes."
   ]
  },
  {
   "cell_type": "code",
   "execution_count": 20,
   "metadata": {
    "ExecuteTime": {
     "end_time": "2021-04-17T21:22:36.540553Z",
     "start_time": "2021-04-17T21:22:35.940240Z"
    }
   },
   "outputs": [
    {
     "name": "stdout",
     "output_type": "stream",
     "text": [
      "Média de NU_NOTA_REDACAO 596.8410927675601\n"
     ]
    },
    {
     "data": {
      "image/png": "[encoded data removed]",
      "text/plain": [
       "<Figure size 432x288 with 1 Axes>"
      ]
     },
     "metadata": {},
     "output_type": "display_data"
    }
   ],
   "source": [
    "print('Média de NU_NOTA_REDACAO',enem2019_revisado['NU_NOTA_REDACAO'].mean())\n",
    "sns.boxplot(x=\"TP_COR_RACA\", y=\"NU_NOTA_REDACAO\",  data=enem2019_revisado,  linewidth=1.5)\n",
    "plt.savefig(\"boxp_Redacao_Raca.png\")"
   ]
  },
  {
   "cell_type": "code",
   "execution_count": 21,
   "metadata": {
    "ExecuteTime": {
     "end_time": "2021-04-17T21:22:50.718396Z",
     "start_time": "2021-04-17T21:22:44.913697Z"
    }
   },
   "outputs": [
    {
     "data": {
      "image/png": "[encoded data removed]",
      "text/plain": [
       "<Figure size 2160x360 with 6 Axes>"
      ]
     },
     "metadata": {},
     "output_type": "display_data"
    }
   ],
   "source": [
    "sns.displot(data=enem2019_revisado, x=\"NU_NOTA_REDACAO\", col=\"TP_COR_RACA\", multiple=\"dodge\")\n",
    "plt.savefig(\"disp_Redacao_Raca.png\")"
   ]
  },
  {
   "cell_type": "markdown",
   "metadata": {},
   "source": [
    "Comparando a nota da redação com o estado de residência dos participantes."
   ]
  },
  {
   "cell_type": "code",
   "execution_count": 22,
   "metadata": {
    "ExecuteTime": {
     "end_time": "2021-04-17T21:23:09.907853Z",
     "start_time": "2021-04-17T21:23:08.778484Z"
    }
   },
   "outputs": [
    {
     "name": "stdout",
     "output_type": "stream",
     "text": [
      "Média de NU_NOTA_REDACAO 596.8410927675601\n"
     ]
    },
    {
     "data": {
      "image/png": "[encoded data removed]",
      "text/plain": [
       "<Figure size 432x288 with 1 Axes>"
      ]
     },
     "metadata": {},
     "output_type": "display_data"
    }
   ],
   "source": [
    "print('Média de NU_NOTA_REDACAO',enem2019_revisado['NU_NOTA_REDACAO'].mean())\n",
    "sns.boxplot(x=\"SG_UF_RESIDENCIA\", y=\"NU_NOTA_REDACAO\",  data=enem2019_revisado,  linewidth=1.5)\n",
    "plt.savefig(\"boxp_Redacao_UF.png\")"
   ]
  },
  {
   "cell_type": "code",
   "execution_count": 23,
   "metadata": {
    "ExecuteTime": {
     "end_time": "2021-04-17T21:23:44.926216Z",
     "start_time": "2021-04-17T21:23:19.124322Z"
    }
   },
   "outputs": [
    {
     "data": {
      "image/png": "[encoded data removed]",
      "text/plain": [
       "<Figure size 9720x360 with 27 Axes>"
      ]
     },
     "metadata": {},
     "output_type": "display_data"
    }
   ],
   "source": [
    "sns.displot(data=enem2019_revisado, x=\"NU_NOTA_REDACAO\", col=\"SG_UF_RESIDENCIA\", multiple=\"dodge\")\n",
    "plt.savefig(\"disp_Redacao_UF.png\")"
   ]
  },
  {
   "cell_type": "markdown",
   "metadata": {},
   "source": [
    "### Aplicando teste ANOVA (Análise de Variância)\n",
    "Análise para testar se as médias entre as variáveis categóricas tem diferenças entre si.\n",
    "\n",
    "As condições para a ANOVA são:\n",
    "* As amostras são AAS.\n",
    "* Desvio Padrão comum: Se o maior desvio padrão for menor que o dobro do menor desvio padrão, podemos supor que igualdade entre os desvios padrões.\n",
    "* Normalidade: A variável resposta é Normalemente distribuidade dentro de cada grupo."
   ]
  },
  {
   "cell_type": "markdown",
   "metadata": {},
   "source": [
    "#### Testando as notas da redação com a variável TP_SEXO"
   ]
  },
  {
   "cell_type": "code",
   "execution_count": 27,
   "metadata": {
    "ExecuteTime": {
     "end_time": "2021-04-17T21:27:40.937818Z",
     "start_time": "2021-04-17T21:27:40.927853Z"
    }
   },
   "outputs": [
    {
     "name": "stdout",
     "output_type": "stream",
     "text": [
      "Média de NU_NOTA_REDACAO 596.8410927675601\n"
     ]
    }
   ],
   "source": [
    "print('Média de NU_NOTA_REDACAO',enem2019_revisado['NU_NOTA_REDACAO'].mean())"
   ]
  },
  {
   "cell_type": "markdown",
   "metadata": {},
   "source": [
    "Aplicando a Análise de Variância (ANOVA)."
   ]
  },
  {
   "cell_type": "code",
   "execution_count": 28,
   "metadata": {
    "ExecuteTime": {
     "end_time": "2021-04-17T21:28:11.748007Z",
     "start_time": "2021-04-17T21:28:11.091970Z"
    }
   },
   "outputs": [
    {
     "name": "stdout",
     "output_type": "stream",
     "text": [
      "\n",
      "                 df        sum_sq       mean_sq            F  PR(>F)\n",
      "TP_SEXO         1.0  1.138037e+08  1.138037e+08  4727.908353     0.0\n",
      "Residual  3596115.0  8.656073e+10  2.407062e+04          NaN     NaN\n"
     ]
    }
   ],
   "source": [
    "lm = ols('NU_NOTA_REDACAO~TP_SEXO', data=enem2019_revisado).fit()\n",
    "tabela = sm.stats.anova_lm(lm)\n",
    "print(tabela)"
   ]
  },
  {
   "cell_type": "markdown",
   "metadata": {},
   "source": [
    "Aplicando Tukey para identificar possiveis diferenças entre as categorias."
   ]
  },
  {
   "cell_type": "code",
   "execution_count": 35,
   "metadata": {
    "ExecuteTime": {
     "end_time": "2021-04-17T21:36:18.244235Z",
     "start_time": "2021-04-17T21:36:16.105485Z"
    }
   },
   "outputs": [
    {
     "name": "stdout",
     "output_type": "stream",
     "text": [
      " Multiple Comparison of Means - Tukey HSD, FWER=0.05 \n",
      "=====================================================\n",
      "group1 group2 meandiff p-adj  lower    upper   reject\n",
      "-----------------------------------------------------\n",
      "     F      M -11.4641 0.001 -11.7909 -11.1373   True\n",
      "-----------------------------------------------------\n"
     ]
    }
   ],
   "source": [
    "mc = statsmodels.stats.multicomp.MultiComparison(enem2019_revisado['NU_NOTA_REDACAO'],enem2019_revisado['TP_SEXO'])\n",
    "print(mc.tukeyhsd())"
   ]
  },
  {
   "cell_type": "markdown",
   "metadata": {},
   "source": [
    "Testando a normalidade dos residuos com Shapiro Wilk e Q-Q plot"
   ]
  },
  {
   "cell_type": "code",
   "execution_count": 31,
   "metadata": {
    "ExecuteTime": {
     "end_time": "2021-04-17T21:30:37.586650Z",
     "start_time": "2021-04-17T21:30:37.414880Z"
    }
   },
   "outputs": [
    {
     "name": "stdout",
     "output_type": "stream",
     "text": [
      "0.9903483986854553 0.0\n"
     ]
    },
    {
     "name": "stderr",
     "output_type": "stream",
     "text": [
      "C:\\Users\\edval\\anaconda3\\lib\\site-packages\\scipy\\stats\\morestats.py:1681: UserWarning: p-value may not be accurate for N > 5000.\n",
      "  warnings.warn(\"p-value may not be accurate for N > 5000.\")\n"
     ]
    }
   ],
   "source": [
    "w, pvalue = stats.shapiro(lm.resid)\n",
    "print(w, pvalue)"
   ]
  },
  {
   "cell_type": "code",
   "execution_count": 32,
   "metadata": {
    "ExecuteTime": {
     "end_time": "2021-04-17T21:30:43.917929Z",
     "start_time": "2021-04-17T21:30:39.032586Z"
    }
   },
   "outputs": [
    {
     "data": {
      "image/png": "[encoded data removed]",
      "text/plain": [
       "<Figure size 432x288 with 1 Axes>"
      ]
     },
     "metadata": {},
     "output_type": "display_data"
    }
   ],
   "source": [
    "fig = sm.qqplot(lm.resid, line='s')\n",
    "plt.show()"
   ]
  },
  {
   "cell_type": "markdown",
   "metadata": {},
   "source": [
    "Aplicando teste de Levene para validar se as amostras são de populações com a mesma variância"
   ]
  },
  {
   "cell_type": "code",
   "execution_count": 37,
   "metadata": {
    "ExecuteTime": {
     "end_time": "2021-04-17T21:43:27.545732Z",
     "start_time": "2021-04-17T21:43:27.440057Z"
    }
   },
   "outputs": [
    {
     "name": "stdout",
     "output_type": "stream",
     "text": [
      "0.0 1.0\n"
     ]
    }
   ],
   "source": [
    "# Levene variance test, Method 2\n",
    "w, pvalue = stats.levene(enem2019_revisado['NU_NOTA_REDACAO'], enem2019_revisado['NU_NOTA_REDACAO'], center='mean')\n",
    "print(w, pvalue)"
   ]
  },
  {
   "cell_type": "code",
   "execution_count": 38,
   "metadata": {
    "ExecuteTime": {
     "end_time": "2021-04-17T21:43:47.002438Z",
     "start_time": "2021-04-17T21:43:46.988477Z"
    }
   },
   "outputs": [
    {
     "data": {
      "text/plain": [
       "0          780.0\n",
       "1          600.0\n",
       "2          640.0\n",
       "3          580.0\n",
       "4          360.0\n",
       "           ...  \n",
       "3702002    280.0\n",
       "3702003    400.0\n",
       "3702004    580.0\n",
       "3702005    800.0\n",
       "3702006    280.0\n",
       "Name: NU_NOTA_REDACAO, Length: 3596117, dtype: float64"
      ]
     },
     "execution_count": 38,
     "metadata": {},
     "output_type": "execute_result"
    }
   ],
   "source": [
    "enem2019_revisado['NU_NOTA_REDACAO']"
   ]
  },
  {
   "cell_type": "code",
   "execution_count": null,
   "metadata": {},
   "outputs": [],
   "source": []
  }
 ],
 "metadata": {
  "kernelspec": {
   "display_name": "Python 3",
   "language": "python",
   "name": "python3"
  },
  "language_info": {
   "codemirror_mode": {
    "name": "ipython",
    "version": 3
   },
   "file_extension": ".py",
   "mimetype": "text/x-python",
   "name": "python",
   "nbconvert_exporter": "python",
   "pygments_lexer": "ipython3",
   "version": "3.8.5"
  },
  "varInspector": {
   "cols": {
    "lenName": 16,
    "lenType": 16,
    "lenVar": 40
   },
   "kernels_config": {
    "python": {
     "delete_cmd_postfix": "",
     "delete_cmd_prefix": "del ",
     "library": "var_list.py",
     "varRefreshCmd": "print(var_dic_list())"
    },
    "r": {
     "delete_cmd_postfix": ") ",
     "delete_cmd_prefix": "rm(",
     "library": "var_list.r",
     "varRefreshCmd": "cat(var_dic_list()) "
    }
   },
   "position": {
    "height": "337.4px",
    "left": "1166px",
    "right": "20px",
    "top": "121px",
    "width": "350px"
   },
   "types_to_exclude": [
    "module",
    "function",
    "builtin_function_or_method",
    "instance",
    "_Feature"
   ],
   "window_display": false
  }
 },
 "nbformat": 4,
 "nbformat_minor": 4
}
