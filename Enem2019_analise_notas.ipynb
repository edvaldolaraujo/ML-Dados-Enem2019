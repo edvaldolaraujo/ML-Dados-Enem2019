{
 "cells": [
  {
   "cell_type": "markdown",
   "metadata": {},
   "source": [
    "# Análise dos dados Enem-2019"
   ]
  },
  {
   "cell_type": "markdown",
   "metadata": {},
   "source": [
    "Análise dos das médias com o objetivo de explicar a nota da redação a partir das demais notas e, sendo possivel, criar um modelo de previsão da nota da redação com base nas outras notas."
   ]
  },
  {
   "cell_type": "markdown",
   "metadata": {},
   "source": [
    "## Carregando dados do Enem-2019"
   ]
  },
  {
   "cell_type": "markdown",
   "metadata": {},
   "source": [
    "Carregando os dados e preparando as variáveis categóricas"
   ]
  },
  {
   "cell_type": "code",
   "execution_count": 1,
   "metadata": {
    "ExecuteTime": {
     "end_time": "2021-04-03T01:32:55.904481Z",
     "start_time": "2021-04-03T01:32:40.584191Z"
    }
   },
   "outputs": [],
   "source": [
    "import pandas as pd"
   ]
  },
  {
   "cell_type": "code",
   "execution_count": 2,
   "metadata": {
    "ExecuteTime": {
     "end_time": "2021-04-03T01:33:35.165912Z",
     "start_time": "2021-04-03T01:33:03.241811Z"
    }
   },
   "outputs": [],
   "source": [
    "enem2019 = pd.read_csv(\"C:/Sandbox/MICRODADOS_ENEM_2019_interim.csv\",  encoding = \"ISO-8859-1\", sep=',')"
   ]
  },
  {
   "cell_type": "code",
   "execution_count": 27,
   "metadata": {
    "ExecuteTime": {
     "end_time": "2021-04-03T15:09:21.717335Z",
     "start_time": "2021-04-03T15:09:21.712346Z"
    },
    "scrolled": true
   },
   "outputs": [
    {
     "data": {
      "text/plain": [
       "(3702007, 53)"
      ]
     },
     "execution_count": 27,
     "metadata": {},
     "output_type": "execute_result"
    }
   ],
   "source": [
    "enem2019.shape"
   ]
  },
  {
   "cell_type": "code",
   "execution_count": 3,
   "metadata": {
    "ExecuteTime": {
     "end_time": "2021-04-03T01:33:40.206135Z",
     "start_time": "2021-04-03T01:33:40.179146Z"
    }
   },
   "outputs": [
    {
     "data": {
      "text/plain": [
       "Index(['NU_INSCRICAO', 'CO_UF_RESIDENCIA', 'SG_UF_RESIDENCIA', 'NU_IDADE',\n",
       "       'TP_SEXO', 'TP_ESTADO_CIVIL', 'TP_COR_RACA', 'TP_NACIONALIDADE',\n",
       "       'TP_ST_CONCLUSAO', 'TP_ANO_CONCLUIU', 'TP_ESCOLA', 'TP_ENSINO',\n",
       "       'IN_TREINEIRO', 'TP_DEPENDENCIA_ADM_ESC', 'TP_LOCALIZACAO_ESC',\n",
       "       'TP_SIT_FUNC_ESC', 'NU_NOTA_CN', 'NU_NOTA_CH', 'NU_NOTA_LC',\n",
       "       'NU_NOTA_MT', 'TP_LINGUA', 'TP_STATUS_REDACAO', 'NU_NOTA_COMP1',\n",
       "       'NU_NOTA_COMP2', 'NU_NOTA_COMP3', 'NU_NOTA_COMP4', 'NU_NOTA_COMP5',\n",
       "       'NU_NOTA_REDACAO', 'Q001', 'Q002', 'Q003', 'Q004', 'Q005', 'Q006',\n",
       "       'Q007', 'Q008', 'Q009', 'Q010', 'Q011', 'Q012', 'Q013', 'Q014', 'Q015',\n",
       "       'Q016', 'Q017', 'Q018', 'Q019', 'Q020', 'Q021', 'Q022', 'Q023', 'Q024',\n",
       "       'Q025'],\n",
       "      dtype='object')"
      ]
     },
     "execution_count": 3,
     "metadata": {},
     "output_type": "execute_result"
    }
   ],
   "source": [
    "enem2019.columns"
   ]
  },
  {
   "cell_type": "code",
   "execution_count": 4,
   "metadata": {
    "ExecuteTime": {
     "end_time": "2021-04-03T01:34:10.439731Z",
     "start_time": "2021-04-03T01:33:45.222167Z"
    }
   },
   "outputs": [],
   "source": [
    "categoricos = ['SG_UF_RESIDENCIA', 'TP_SEXO', 'TP_ESTADO_CIVIL', 'TP_COR_RACA', 'TP_NACIONALIDADE', 'TP_ST_CONCLUSAO', \n",
    "               'TP_ANO_CONCLUIU', 'TP_ESCOLA', 'TP_ENSINO', 'IN_TREINEIRO', 'TP_DEPENDENCIA_ADM_ESC', 'TP_LOCALIZACAO_ESC',\n",
    "               'TP_SIT_FUNC_ESC', 'TP_LINGUA', 'TP_STATUS_REDACAO', \n",
    "               'Q001', 'Q002', 'Q003', 'Q004', 'Q006', 'Q007', 'Q008', 'Q009', 'Q010', 'Q011', 'Q012', 'Q013', 'Q014', 'Q015',\n",
    "               'Q016', 'Q017', 'Q018', 'Q019', 'Q020', 'Q021', 'Q022', 'Q023', 'Q024', 'Q025'\n",
    "              ]\n",
    "\n",
    "for campos in categoricos:\n",
    "    enem2019[campos] = enem2019[campos].astype(\"category\")"
   ]
  },
  {
   "cell_type": "markdown",
   "metadata": {},
   "source": [
    "## Análise exploratória dos dados"
   ]
  },
  {
   "cell_type": "markdown",
   "metadata": {},
   "source": [
    "Avaliando os dados da redação em busca de entendimento acerca de suas medidas."
   ]
  },
  {
   "cell_type": "code",
   "execution_count": 14,
   "metadata": {
    "ExecuteTime": {
     "end_time": "2021-04-03T14:54:45.357261Z",
     "start_time": "2021-04-03T14:54:45.082939Z"
    }
   },
   "outputs": [
    {
     "data": {
      "text/plain": [
       "TP_STATUS_REDACAO  TP_STATUS_REDACAO\n",
       "1.0                1.0                  97.139660\n",
       "2.0                2.0                   0.133171\n",
       "3.0                3.0                   0.563424\n",
       "4.0                4.0                   0.948107\n",
       "6.0                6.0                   0.846190\n",
       "7.0                7.0                   0.091842\n",
       "8.0                8.0                   0.167261\n",
       "9.0                9.0                   0.110346\n",
       "Name: TP_STATUS_REDACAO, dtype: float64"
      ]
     },
     "execution_count": 14,
     "metadata": {},
     "output_type": "execute_result"
    }
   ],
   "source": [
    "enem2019.groupby('TP_STATUS_REDACAO')['TP_STATUS_REDACAO'].value_counts()/enem2019.shape[0]*100"
   ]
  },
  {
   "cell_type": "code",
   "execution_count": 16,
   "metadata": {
    "ExecuteTime": {
     "end_time": "2021-04-03T14:57:21.394569Z",
     "start_time": "2021-04-03T14:57:21.358647Z"
    }
   },
   "outputs": [
    {
     "data": {
      "text/plain": [
       "TP_STATUS_REDACAO\n",
       "1.0    596.841093\n",
       "2.0      0.000000\n",
       "3.0      0.000000\n",
       "4.0      0.000000\n",
       "6.0      0.000000\n",
       "7.0      0.000000\n",
       "8.0      0.000000\n",
       "9.0      0.000000\n",
       "Name: NU_NOTA_REDACAO, dtype: float64"
      ]
     },
     "execution_count": 16,
     "metadata": {},
     "output_type": "execute_result"
    }
   ],
   "source": [
    "enem2019.groupby('TP_STATUS_REDACAO')['NU_NOTA_REDACAO'].mean()"
   ]
  },
  {
   "cell_type": "markdown",
   "metadata": {
    "ExecuteTime": {
     "end_time": "2021-04-03T14:56:27.853113Z",
     "start_time": "2021-04-03T14:56:27.848158Z"
    }
   },
   "source": [
    "Cerca de **3%** dos participantes tiveram algum problema com a redação e isto impacta a média da nota de redação.\n",
    "\n",
    "Para minimizar este impacto devemos remover os registros com TP_STATUS_REDACAO >1"
   ]
  },
  {
   "cell_type": "code",
   "execution_count": 24,
   "metadata": {
    "ExecuteTime": {
     "end_time": "2021-04-03T15:08:27.181935Z",
     "start_time": "2021-04-03T15:08:26.420200Z"
    }
   },
   "outputs": [],
   "source": [
    "enem2019_revisado = enem2019.drop(enem2019[enem2019.TP_STATUS_REDACAO != 1].index)"
   ]
  },
  {
   "cell_type": "markdown",
   "metadata": {},
   "source": [
    "Avaliando os dados numéricos após a exclusão dos casos com problemas na nota de redação."
   ]
  },
  {
   "cell_type": "code",
   "execution_count": 29,
   "metadata": {
    "ExecuteTime": {
     "end_time": "2021-04-03T15:11:01.314557Z",
     "start_time": "2021-04-03T15:10:58.714445Z"
    }
   },
   "outputs": [
    {
     "data": {
      "text/html": [
       "<div>\n",
       "<style scoped>\n",
       "    .dataframe tbody tr th:only-of-type {\n",
       "        vertical-align: middle;\n",
       "    }\n",
       "\n",
       "    .dataframe tbody tr th {\n",
       "        vertical-align: top;\n",
       "    }\n",
       "\n",
       "    .dataframe thead th {\n",
       "        text-align: right;\n",
       "    }\n",
       "</style>\n",
       "<table border=\"1\" class=\"dataframe\">\n",
       "  <thead>\n",
       "    <tr style=\"text-align: right;\">\n",
       "      <th></th>\n",
       "      <th>count</th>\n",
       "      <th>mean</th>\n",
       "      <th>std</th>\n",
       "      <th>min</th>\n",
       "      <th>25%</th>\n",
       "      <th>50%</th>\n",
       "      <th>75%</th>\n",
       "      <th>max</th>\n",
       "    </tr>\n",
       "  </thead>\n",
       "  <tbody>\n",
       "    <tr>\n",
       "      <th>NU_INSCRICAO</th>\n",
       "      <td>3596117.0</td>\n",
       "      <td>1.900035e+11</td>\n",
       "      <td>1.450862e+06</td>\n",
       "      <td>1.900010e+11</td>\n",
       "      <td>1.900022e+11</td>\n",
       "      <td>1.900035e+11</td>\n",
       "      <td>1.900047e+11</td>\n",
       "      <td>1.900061e+11</td>\n",
       "    </tr>\n",
       "    <tr>\n",
       "      <th>CO_UF_RESIDENCIA</th>\n",
       "      <td>3596117.0</td>\n",
       "      <td>3.069979e+01</td>\n",
       "      <td>9.843570e+00</td>\n",
       "      <td>1.100000e+01</td>\n",
       "      <td>2.400000e+01</td>\n",
       "      <td>3.100000e+01</td>\n",
       "      <td>3.500000e+01</td>\n",
       "      <td>5.300000e+01</td>\n",
       "    </tr>\n",
       "    <tr>\n",
       "      <th>NU_IDADE</th>\n",
       "      <td>3596117.0</td>\n",
       "      <td>2.112426e+01</td>\n",
       "      <td>6.861937e+00</td>\n",
       "      <td>1.000000e+00</td>\n",
       "      <td>1.700000e+01</td>\n",
       "      <td>1.900000e+01</td>\n",
       "      <td>2.200000e+01</td>\n",
       "      <td>9.200000e+01</td>\n",
       "    </tr>\n",
       "    <tr>\n",
       "      <th>NU_NOTA_CN</th>\n",
       "      <td>3596117.0</td>\n",
       "      <td>4.794389e+02</td>\n",
       "      <td>7.601345e+01</td>\n",
       "      <td>0.000000e+00</td>\n",
       "      <td>4.194000e+02</td>\n",
       "      <td>4.724000e+02</td>\n",
       "      <td>5.349000e+02</td>\n",
       "      <td>8.609000e+02</td>\n",
       "    </tr>\n",
       "    <tr>\n",
       "      <th>NU_NOTA_CH</th>\n",
       "      <td>3596117.0</td>\n",
       "      <td>5.119934e+02</td>\n",
       "      <td>8.028143e+01</td>\n",
       "      <td>0.000000e+00</td>\n",
       "      <td>4.537000e+02</td>\n",
       "      <td>5.157000e+02</td>\n",
       "      <td>5.701000e+02</td>\n",
       "      <td>8.351000e+02</td>\n",
       "    </tr>\n",
       "    <tr>\n",
       "      <th>NU_NOTA_LC</th>\n",
       "      <td>3596117.0</td>\n",
       "      <td>5.243249e+02</td>\n",
       "      <td>6.164076e+01</td>\n",
       "      <td>0.000000e+00</td>\n",
       "      <td>4.881000e+02</td>\n",
       "      <td>5.294000e+02</td>\n",
       "      <td>5.677000e+02</td>\n",
       "      <td>8.017000e+02</td>\n",
       "    </tr>\n",
       "    <tr>\n",
       "      <th>NU_NOTA_MT</th>\n",
       "      <td>3596117.0</td>\n",
       "      <td>5.252794e+02</td>\n",
       "      <td>1.092460e+02</td>\n",
       "      <td>0.000000e+00</td>\n",
       "      <td>4.369000e+02</td>\n",
       "      <td>5.039000e+02</td>\n",
       "      <td>6.006000e+02</td>\n",
       "      <td>9.855000e+02</td>\n",
       "    </tr>\n",
       "    <tr>\n",
       "      <th>NU_NOTA_COMP1</th>\n",
       "      <td>3596117.0</td>\n",
       "      <td>1.254863e+02</td>\n",
       "      <td>2.426533e+01</td>\n",
       "      <td>0.000000e+00</td>\n",
       "      <td>1.200000e+02</td>\n",
       "      <td>1.200000e+02</td>\n",
       "      <td>1.400000e+02</td>\n",
       "      <td>2.000000e+02</td>\n",
       "    </tr>\n",
       "    <tr>\n",
       "      <th>NU_NOTA_COMP2</th>\n",
       "      <td>3596117.0</td>\n",
       "      <td>1.281383e+02</td>\n",
       "      <td>3.629410e+01</td>\n",
       "      <td>4.000000e+01</td>\n",
       "      <td>1.200000e+02</td>\n",
       "      <td>1.200000e+02</td>\n",
       "      <td>1.400000e+02</td>\n",
       "      <td>2.000000e+02</td>\n",
       "    </tr>\n",
       "    <tr>\n",
       "      <th>NU_NOTA_COMP3</th>\n",
       "      <td>3596117.0</td>\n",
       "      <td>1.199369e+02</td>\n",
       "      <td>3.391945e+01</td>\n",
       "      <td>0.000000e+00</td>\n",
       "      <td>1.000000e+02</td>\n",
       "      <td>1.200000e+02</td>\n",
       "      <td>1.400000e+02</td>\n",
       "      <td>2.000000e+02</td>\n",
       "    </tr>\n",
       "    <tr>\n",
       "      <th>NU_NOTA_COMP4</th>\n",
       "      <td>3596117.0</td>\n",
       "      <td>1.269170e+02</td>\n",
       "      <td>3.050705e+01</td>\n",
       "      <td>0.000000e+00</td>\n",
       "      <td>1.200000e+02</td>\n",
       "      <td>1.200000e+02</td>\n",
       "      <td>1.400000e+02</td>\n",
       "      <td>2.000000e+02</td>\n",
       "    </tr>\n",
       "    <tr>\n",
       "      <th>NU_NOTA_COMP5</th>\n",
       "      <td>3596117.0</td>\n",
       "      <td>9.636264e+01</td>\n",
       "      <td>5.761878e+01</td>\n",
       "      <td>0.000000e+00</td>\n",
       "      <td>6.000000e+01</td>\n",
       "      <td>1.000000e+02</td>\n",
       "      <td>1.400000e+02</td>\n",
       "      <td>2.000000e+02</td>\n",
       "    </tr>\n",
       "    <tr>\n",
       "      <th>NU_NOTA_REDACAO</th>\n",
       "      <td>3596117.0</td>\n",
       "      <td>5.968411e+02</td>\n",
       "      <td>1.552490e+02</td>\n",
       "      <td>4.000000e+01</td>\n",
       "      <td>5.000000e+02</td>\n",
       "      <td>5.800000e+02</td>\n",
       "      <td>6.800000e+02</td>\n",
       "      <td>1.000000e+03</td>\n",
       "    </tr>\n",
       "    <tr>\n",
       "      <th>Q005</th>\n",
       "      <td>3596117.0</td>\n",
       "      <td>3.896629e+00</td>\n",
       "      <td>1.430547e+00</td>\n",
       "      <td>1.000000e+00</td>\n",
       "      <td>3.000000e+00</td>\n",
       "      <td>4.000000e+00</td>\n",
       "      <td>5.000000e+00</td>\n",
       "      <td>2.000000e+01</td>\n",
       "    </tr>\n",
       "  </tbody>\n",
       "</table>\n",
       "</div>"
      ],
      "text/plain": [
       "                      count          mean           std           min  \\\n",
       "NU_INSCRICAO      3596117.0  1.900035e+11  1.450862e+06  1.900010e+11   \n",
       "CO_UF_RESIDENCIA  3596117.0  3.069979e+01  9.843570e+00  1.100000e+01   \n",
       "NU_IDADE          3596117.0  2.112426e+01  6.861937e+00  1.000000e+00   \n",
       "NU_NOTA_CN        3596117.0  4.794389e+02  7.601345e+01  0.000000e+00   \n",
       "NU_NOTA_CH        3596117.0  5.119934e+02  8.028143e+01  0.000000e+00   \n",
       "NU_NOTA_LC        3596117.0  5.243249e+02  6.164076e+01  0.000000e+00   \n",
       "NU_NOTA_MT        3596117.0  5.252794e+02  1.092460e+02  0.000000e+00   \n",
       "NU_NOTA_COMP1     3596117.0  1.254863e+02  2.426533e+01  0.000000e+00   \n",
       "NU_NOTA_COMP2     3596117.0  1.281383e+02  3.629410e+01  4.000000e+01   \n",
       "NU_NOTA_COMP3     3596117.0  1.199369e+02  3.391945e+01  0.000000e+00   \n",
       "NU_NOTA_COMP4     3596117.0  1.269170e+02  3.050705e+01  0.000000e+00   \n",
       "NU_NOTA_COMP5     3596117.0  9.636264e+01  5.761878e+01  0.000000e+00   \n",
       "NU_NOTA_REDACAO   3596117.0  5.968411e+02  1.552490e+02  4.000000e+01   \n",
       "Q005              3596117.0  3.896629e+00  1.430547e+00  1.000000e+00   \n",
       "\n",
       "                           25%           50%           75%           max  \n",
       "NU_INSCRICAO      1.900022e+11  1.900035e+11  1.900047e+11  1.900061e+11  \n",
       "CO_UF_RESIDENCIA  2.400000e+01  3.100000e+01  3.500000e+01  5.300000e+01  \n",
       "NU_IDADE          1.700000e+01  1.900000e+01  2.200000e+01  9.200000e+01  \n",
       "NU_NOTA_CN        4.194000e+02  4.724000e+02  5.349000e+02  8.609000e+02  \n",
       "NU_NOTA_CH        4.537000e+02  5.157000e+02  5.701000e+02  8.351000e+02  \n",
       "NU_NOTA_LC        4.881000e+02  5.294000e+02  5.677000e+02  8.017000e+02  \n",
       "NU_NOTA_MT        4.369000e+02  5.039000e+02  6.006000e+02  9.855000e+02  \n",
       "NU_NOTA_COMP1     1.200000e+02  1.200000e+02  1.400000e+02  2.000000e+02  \n",
       "NU_NOTA_COMP2     1.200000e+02  1.200000e+02  1.400000e+02  2.000000e+02  \n",
       "NU_NOTA_COMP3     1.000000e+02  1.200000e+02  1.400000e+02  2.000000e+02  \n",
       "NU_NOTA_COMP4     1.200000e+02  1.200000e+02  1.400000e+02  2.000000e+02  \n",
       "NU_NOTA_COMP5     6.000000e+01  1.000000e+02  1.400000e+02  2.000000e+02  \n",
       "NU_NOTA_REDACAO   5.000000e+02  5.800000e+02  6.800000e+02  1.000000e+03  \n",
       "Q005              3.000000e+00  4.000000e+00  5.000000e+00  2.000000e+01  "
      ]
     },
     "execution_count": 29,
     "metadata": {},
     "output_type": "execute_result"
    }
   ],
   "source": [
    "(enem2019_revisado.describe().T).to_csv('C:/Sandbox/MICRODADOS_ENEM_2019_sumario.csv')\n",
    "(enem2019_revisado.describe().T)"
   ]
  },
  {
   "cell_type": "code",
   "execution_count": 52,
   "metadata": {
    "ExecuteTime": {
     "end_time": "2021-04-03T15:35:42.482226Z",
     "start_time": "2021-04-03T15:35:42.442112Z"
    }
   },
   "outputs": [
    {
     "data": {
      "text/plain": [
       "TP_SEXO\n",
       "F    2143138\n",
       "M    1452979\n",
       "Name: NU_NOTA_REDACAO, dtype: int64"
      ]
     },
     "execution_count": 52,
     "metadata": {},
     "output_type": "execute_result"
    }
   ],
   "source": [
    "enem2019_revisado.groupby('TP_SEXO')['NU_NOTA_REDACAO'].count()"
   ]
  },
  {
   "cell_type": "code",
   "execution_count": 77,
   "metadata": {
    "ExecuteTime": {
     "end_time": "2021-04-03T15:59:08.774935Z",
     "start_time": "2021-04-03T15:59:06.218947Z"
    }
   },
   "outputs": [
    {
     "name": "stderr",
     "output_type": "stream",
     "text": [
      "<ipython-input-77-592323456848>:1: UserWarning: Boolean Series key will be reindexed to match DataFrame index.\n",
      "  enem2019_F = enem2019_revisado.drop(enem2019_revisado[enem2019.TP_SEXO != 'F'].index)\n"
     ]
    },
    {
     "data": {
      "text/plain": [
       "count    2.143138e+06\n",
       "mean     6.014731e+02\n",
       "std      1.562052e+02\n",
       "min      4.000000e+01\n",
       "25%      5.000000e+02\n",
       "50%      6.000000e+02\n",
       "75%      7.000000e+02\n",
       "max      1.000000e+03\n",
       "Name: NU_NOTA_REDACAO, dtype: float64"
      ]
     },
     "execution_count": 77,
     "metadata": {},
     "output_type": "execute_result"
    }
   ],
   "source": [
    "enem2019_F = enem2019_revisado.drop(enem2019_revisado[enem2019.TP_SEXO != 'F'].index)\n",
    "enem2019_F = enem2019_F['NU_NOTA_REDACAO']\n",
    "enem2019_F.describe()"
   ]
  },
  {
   "cell_type": "code",
   "execution_count": 85,
   "metadata": {
    "ExecuteTime": {
     "end_time": "2021-04-03T16:01:07.088484Z",
     "start_time": "2021-04-03T16:01:04.328868Z"
    }
   },
   "outputs": [
    {
     "name": "stderr",
     "output_type": "stream",
     "text": [
      "<ipython-input-85-80e7910c5c47>:1: UserWarning: Boolean Series key will be reindexed to match DataFrame index.\n",
      "  enem2019_M = enem2019_revisado.drop(enem2019_revisado[enem2019.TP_SEXO != 'M'].index)\n"
     ]
    },
    {
     "data": {
      "text/plain": [
       "count    1.452979e+06\n",
       "mean     5.900090e+02\n",
       "std      1.535731e+02\n",
       "min      4.000000e+01\n",
       "25%      5.000000e+02\n",
       "50%      5.800000e+02\n",
       "75%      6.800000e+02\n",
       "max      1.000000e+03\n",
       "Name: NU_NOTA_REDACAO, dtype: float64"
      ]
     },
     "execution_count": 85,
     "metadata": {},
     "output_type": "execute_result"
    }
   ],
   "source": [
    "enem2019_M = enem2019_revisado.drop(enem2019_revisado[enem2019.TP_SEXO != 'M'].index)\n",
    "enem2019_M = enem2019_M['NU_NOTA_REDACAO']\n",
    "enem2019_M.describe()"
   ]
  },
  {
   "cell_type": "code",
   "execution_count": null,
   "metadata": {
    "ExecuteTime": {
     "end_time": "2021-04-03T15:59:13.844452Z",
     "start_time": "2021-04-03T15:59:11.407Z"
    }
   },
   "outputs": [],
   "source": [
    "from scipy.stats import ttest_ind"
   ]
  },
  {
   "cell_type": "code",
   "execution_count": null,
   "metadata": {},
   "outputs": [],
   "source": [
    "stat, p = ttest_ind(enem2019_F, enem2019_M, equal_var=False)\n",
    "print('stat=%.3f, p=%.3f' % (stat, p))\n",
    "if p > 0.05:\n",
    "    print('Não Rejeitar H0')\n",
    "else:\n",
    "    print('Rejeitar H0')\n"
   ]
  },
  {
   "cell_type": "code",
   "execution_count": null,
   "metadata": {},
   "outputs": [],
   "source": [
    "import statsmodels.api as sm\n",
    "from statsmodels.formula.api import ols"
   ]
  }
 ],
 "metadata": {
  "kernelspec": {
   "display_name": "Python 3",
   "language": "python",
   "name": "python3"
  },
  "language_info": {
   "codemirror_mode": {
    "name": "ipython",
    "version": 3
   },
   "file_extension": ".py",
   "mimetype": "text/x-python",
   "name": "python",
   "nbconvert_exporter": "python",
   "pygments_lexer": "ipython3",
   "version": "3.8.5"
  },
  "varInspector": {
   "cols": {
    "lenName": 16,
    "lenType": 16,
    "lenVar": 40
   },
   "kernels_config": {
    "python": {
     "delete_cmd_postfix": "",
     "delete_cmd_prefix": "del ",
     "library": "var_list.py",
     "varRefreshCmd": "print(var_dic_list())"
    },
    "r": {
     "delete_cmd_postfix": ") ",
     "delete_cmd_prefix": "rm(",
     "library": "var_list.r",
     "varRefreshCmd": "cat(var_dic_list()) "
    }
   },
   "position": {
    "height": "337.4px",
    "left": "1166px",
    "right": "20px",
    "top": "121px",
    "width": "350px"
   },
   "types_to_exclude": [
    "module",
    "function",
    "builtin_function_or_method",
    "instance",
    "_Feature"
   ],
   "window_display": false
  }
 },
 "nbformat": 4,
 "nbformat_minor": 4
}
