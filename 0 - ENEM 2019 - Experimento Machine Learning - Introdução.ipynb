{
 "cells": [
  {
   "cell_type": "markdown",
   "metadata": {},
   "source": [
    "# ENEM 2019 - Experimento Machine Learning - Introdução"
   ]
  },
  {
   "cell_type": "markdown",
   "metadata": {},
   "source": [
    "## Introdução\n",
    "Todos os anos milhares de jovens e adultos se prepraram para a prova do ENEM (Exame Nacional do Ensino Médio).\n",
    "\n",
    "O exame avalia o desempenho dos partipantes em 4 grandes áreas de conhecimento:\n",
    "* Ciências da Natureza\n",
    "* Ciências Humanas\n",
    "* Linguagens e Códigos\n",
    "* Matemática\n",
    "\n",
    "Além disso, é dado um tema único e solicitado que cada participante faça uma **redação**. O objetivo desta redaçao é entender as seguintes competências relacionadas a linguagem escrita:\n",
    "* Demonstrar domínio da modalidade escrita formal da Língua Portuguesa.\n",
    "* Compreender a proposta de redação e aplicar conceitos das várias áreas de conhecimento para desenvolver o tema, dentro dos limites estruturais do texto dissertativo-argumentativo em prosa.\n",
    "* Selecionar, relacionar, organizar e interpretar informações, fatos, opiniões e argumentos em defesa de um ponto de vista.\n",
    "* Demonstrar conhecimento dos mecanismos linguísticos necessários para a construção da argumentação.\n",
    "* Elaborar proposta de intervenção para o problema abordado, respeitando os direitos humanos."
   ]
  },
  {
   "cell_type": "markdown",
   "metadata": {
    "ExecuteTime": {
     "end_time": "2021-01-23T13:02:30.924167Z",
     "start_time": "2021-01-23T13:02:30.910570Z"
    }
   },
   "source": [
    "## Quais fatores determinam um bom desempenho na redação?\n",
    "O tema da redação é de grande interesse de participantes, professores, meios de comunicação e instituições de ensino.\n",
    "\n",
    "Todos os anos há expeculações a respeito de qual será o tema, o que será abordado e como desenvolver a redação de forma que se obtenha uma nota alta. \n",
    "\n",
    "Especialistas tem suas teorias e hipóteses para explicar o desempenho na redação. Segundo eles, este desempenho depende de fatores como, por exemplo, preparo do participante, repertório de conhecimento, histórico familiar e perfil socio-demográfico.\n"
   ]
  },
  {
   "cell_type": "markdown",
   "metadata": {},
   "source": [
    "## Objetivo deste experimento\n",
    "\n",
    "Com o interesse em conhecer e medir os fatores que determinam um bom desempenho na redação, o objeto deste experimento é usar modelos de **machine learning** que permitam agrupar os participantes, bem como prever o desempenho e as nota a partir dos dados obtidos no EMEM de 2019.\n",
    "\n",
    "Os modelos e técnicas considerados neste este experimento são\n",
    "* Redução de Dimensionalidade \n",
    "* Agrupamento\n",
    "* Regressão\n",
    "\n",
    "Espera-se, com este trabalho, obter mais clareza sobre os fatores que determinam o bom desempenho, além de iniciar discussões a respeito de iniciativas que podem ajudar os participantes durante a preparação para o exame. "
   ]
  },
  {
   "cell_type": "markdown",
   "metadata": {},
   "source": [
    "## Fases do experimento\n",
    "\n",
    "Este experimento terá as seguintes fases:\n",
    "1. Pré-processamento\n",
    "2. Análise exploratória de dados\n",
    "3. Redução de Dimensionalidade e agrupamento\n",
    "4. Previsão da nota de redação\n",
    "5. Conclusão"
   ]
  },
  {
   "cell_type": "markdown",
   "metadata": {},
   "source": [
    "## Premissas\n",
    "\n",
    "Este experimento usará os seguintes tipos de dados:\n",
    "* Dados do particiipante;\n",
    "* Dados da escola;\n",
    "* Dados demograficos;\n",
    "* Dados socioeconômicos\n",
    "* Notas dos participantes\n",
    "\n",
    "Dada a incapacidade de algoritmos perceberem nuances com características qualitativas os seguintes dados não foram considerados:\n",
    "* DADOS DOS PEDIDOS DE ATENDIMENTO ESPECIALIZADO\n",
    "* DADOS DOS PEDIDOS DE ATENDIMENTO ESPECÍFICO\n",
    "* DADOS DOS PEDIDOS DE RECURSOS ESPECIALIZADOS E ESPECÍFICOS PARA REALIZAÇÃO DAS PROVAS\n",
    "* DADOS DO LOCAL DE APLICAÇÃO DA PROVA\n",
    "\n",
    "Certamente dados de atendimento, recursos e local da prova trazem alguma influência direta ou indireta para a perfomance do participante, porém tais dados necessitam de uma análise cuidadosa bem como humanizada.\n",
    "\n",
    "Finalmente será utilizada uma amostra de casos assinalados como válidos após a fase de pré-processamento  apenas os casos"
   ]
  },
  {
   "cell_type": "markdown",
   "metadata": {
    "ExecuteTime": {
     "end_time": "2021-01-25T14:05:29.701594Z",
     "start_time": "2021-01-25T14:05:29.688154Z"
    }
   },
   "source": [
    "## Referências Bibliográficas\n"
   ]
  },
  {
   "cell_type": "code",
   "execution_count": null,
   "metadata": {},
   "outputs": [],
   "source": []
  }
 ],
 "metadata": {
  "kernelspec": {
   "display_name": "Python 3",
   "language": "python",
   "name": "python3"
  },
  "language_info": {
   "codemirror_mode": {
    "name": "ipython",
    "version": 3
   },
   "file_extension": ".py",
   "mimetype": "text/x-python",
   "name": "python",
   "nbconvert_exporter": "python",
   "pygments_lexer": "ipython3",
   "version": "3.8.5"
  },
  "varInspector": {
   "cols": {
    "lenName": 16,
    "lenType": 16,
    "lenVar": 40
   },
   "kernels_config": {
    "python": {
     "delete_cmd_postfix": "",
     "delete_cmd_prefix": "del ",
     "library": "var_list.py",
     "varRefreshCmd": "print(var_dic_list())"
    },
    "r": {
     "delete_cmd_postfix": ") ",
     "delete_cmd_prefix": "rm(",
     "library": "var_list.r",
     "varRefreshCmd": "cat(var_dic_list()) "
    }
   },
   "position": {
    "height": "350.4px",
    "left": "1168px",
    "right": "20px",
    "top": "121px",
    "width": "350px"
   },
   "types_to_exclude": [
    "module",
    "function",
    "builtin_function_or_method",
    "instance",
    "_Feature"
   ],
   "window_display": false
  }
 },
 "nbformat": 4,
 "nbformat_minor": 4
}
